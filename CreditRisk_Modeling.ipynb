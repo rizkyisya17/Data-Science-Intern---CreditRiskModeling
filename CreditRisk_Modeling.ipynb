{
 "cells": [
  {
   "cell_type": "code",
   "execution_count": 163,
   "metadata": {},
   "outputs": [],
   "source": [
    "import pandas as pd\n",
    "import seaborn as sns\n",
    "import matplotlib.pyplot as plt\n",
    "import numpy as np"
   ]
  },
  {
   "attachments": {},
   "cell_type": "markdown",
   "metadata": {},
   "source": [
    "# Data Understanding & EDA"
   ]
  },
  {
   "cell_type": "code",
   "execution_count": 164,
   "metadata": {},
   "outputs": [
    {
     "name": "stderr",
     "output_type": "stream",
     "text": [
      "C:\\Users\\rizky\\AppData\\Local\\Temp\\ipykernel_23472\\4200974262.py:1: DtypeWarning: Columns (20) have mixed types. Specify dtype option on import or set low_memory=False.\n",
      "  data_raw = pd.read_csv('loan_data_2007_2014.csv')\n"
     ]
    },
    {
     "data": {
      "text/html": [
       "<div>\n",
       "<style scoped>\n",
       "    .dataframe tbody tr th:only-of-type {\n",
       "        vertical-align: middle;\n",
       "    }\n",
       "\n",
       "    .dataframe tbody tr th {\n",
       "        vertical-align: top;\n",
       "    }\n",
       "\n",
       "    .dataframe thead th {\n",
       "        text-align: right;\n",
       "    }\n",
       "</style>\n",
       "<table border=\"1\" class=\"dataframe\">\n",
       "  <thead>\n",
       "    <tr style=\"text-align: right;\">\n",
       "      <th></th>\n",
       "      <th>Unnamed: 0</th>\n",
       "      <th>id</th>\n",
       "      <th>member_id</th>\n",
       "      <th>loan_amnt</th>\n",
       "      <th>funded_amnt</th>\n",
       "      <th>funded_amnt_inv</th>\n",
       "      <th>term</th>\n",
       "      <th>int_rate</th>\n",
       "      <th>installment</th>\n",
       "      <th>grade</th>\n",
       "      <th>...</th>\n",
       "      <th>total_bal_il</th>\n",
       "      <th>il_util</th>\n",
       "      <th>open_rv_12m</th>\n",
       "      <th>open_rv_24m</th>\n",
       "      <th>max_bal_bc</th>\n",
       "      <th>all_util</th>\n",
       "      <th>total_rev_hi_lim</th>\n",
       "      <th>inq_fi</th>\n",
       "      <th>total_cu_tl</th>\n",
       "      <th>inq_last_12m</th>\n",
       "    </tr>\n",
       "  </thead>\n",
       "  <tbody>\n",
       "    <tr>\n",
       "      <th>0</th>\n",
       "      <td>0</td>\n",
       "      <td>1077501</td>\n",
       "      <td>1296599</td>\n",
       "      <td>5000</td>\n",
       "      <td>5000</td>\n",
       "      <td>4975.0</td>\n",
       "      <td>36 months</td>\n",
       "      <td>10.65</td>\n",
       "      <td>162.87</td>\n",
       "      <td>B</td>\n",
       "      <td>...</td>\n",
       "      <td>NaN</td>\n",
       "      <td>NaN</td>\n",
       "      <td>NaN</td>\n",
       "      <td>NaN</td>\n",
       "      <td>NaN</td>\n",
       "      <td>NaN</td>\n",
       "      <td>NaN</td>\n",
       "      <td>NaN</td>\n",
       "      <td>NaN</td>\n",
       "      <td>NaN</td>\n",
       "    </tr>\n",
       "    <tr>\n",
       "      <th>1</th>\n",
       "      <td>1</td>\n",
       "      <td>1077430</td>\n",
       "      <td>1314167</td>\n",
       "      <td>2500</td>\n",
       "      <td>2500</td>\n",
       "      <td>2500.0</td>\n",
       "      <td>60 months</td>\n",
       "      <td>15.27</td>\n",
       "      <td>59.83</td>\n",
       "      <td>C</td>\n",
       "      <td>...</td>\n",
       "      <td>NaN</td>\n",
       "      <td>NaN</td>\n",
       "      <td>NaN</td>\n",
       "      <td>NaN</td>\n",
       "      <td>NaN</td>\n",
       "      <td>NaN</td>\n",
       "      <td>NaN</td>\n",
       "      <td>NaN</td>\n",
       "      <td>NaN</td>\n",
       "      <td>NaN</td>\n",
       "    </tr>\n",
       "    <tr>\n",
       "      <th>2</th>\n",
       "      <td>2</td>\n",
       "      <td>1077175</td>\n",
       "      <td>1313524</td>\n",
       "      <td>2400</td>\n",
       "      <td>2400</td>\n",
       "      <td>2400.0</td>\n",
       "      <td>36 months</td>\n",
       "      <td>15.96</td>\n",
       "      <td>84.33</td>\n",
       "      <td>C</td>\n",
       "      <td>...</td>\n",
       "      <td>NaN</td>\n",
       "      <td>NaN</td>\n",
       "      <td>NaN</td>\n",
       "      <td>NaN</td>\n",
       "      <td>NaN</td>\n",
       "      <td>NaN</td>\n",
       "      <td>NaN</td>\n",
       "      <td>NaN</td>\n",
       "      <td>NaN</td>\n",
       "      <td>NaN</td>\n",
       "    </tr>\n",
       "    <tr>\n",
       "      <th>3</th>\n",
       "      <td>3</td>\n",
       "      <td>1076863</td>\n",
       "      <td>1277178</td>\n",
       "      <td>10000</td>\n",
       "      <td>10000</td>\n",
       "      <td>10000.0</td>\n",
       "      <td>36 months</td>\n",
       "      <td>13.49</td>\n",
       "      <td>339.31</td>\n",
       "      <td>C</td>\n",
       "      <td>...</td>\n",
       "      <td>NaN</td>\n",
       "      <td>NaN</td>\n",
       "      <td>NaN</td>\n",
       "      <td>NaN</td>\n",
       "      <td>NaN</td>\n",
       "      <td>NaN</td>\n",
       "      <td>NaN</td>\n",
       "      <td>NaN</td>\n",
       "      <td>NaN</td>\n",
       "      <td>NaN</td>\n",
       "    </tr>\n",
       "    <tr>\n",
       "      <th>4</th>\n",
       "      <td>4</td>\n",
       "      <td>1075358</td>\n",
       "      <td>1311748</td>\n",
       "      <td>3000</td>\n",
       "      <td>3000</td>\n",
       "      <td>3000.0</td>\n",
       "      <td>60 months</td>\n",
       "      <td>12.69</td>\n",
       "      <td>67.79</td>\n",
       "      <td>B</td>\n",
       "      <td>...</td>\n",
       "      <td>NaN</td>\n",
       "      <td>NaN</td>\n",
       "      <td>NaN</td>\n",
       "      <td>NaN</td>\n",
       "      <td>NaN</td>\n",
       "      <td>NaN</td>\n",
       "      <td>NaN</td>\n",
       "      <td>NaN</td>\n",
       "      <td>NaN</td>\n",
       "      <td>NaN</td>\n",
       "    </tr>\n",
       "  </tbody>\n",
       "</table>\n",
       "<p>5 rows × 75 columns</p>\n",
       "</div>"
      ],
      "text/plain": [
       "   Unnamed: 0       id  member_id  loan_amnt  funded_amnt  funded_amnt_inv  \\\n",
       "0           0  1077501    1296599       5000         5000           4975.0   \n",
       "1           1  1077430    1314167       2500         2500           2500.0   \n",
       "2           2  1077175    1313524       2400         2400           2400.0   \n",
       "3           3  1076863    1277178      10000        10000          10000.0   \n",
       "4           4  1075358    1311748       3000         3000           3000.0   \n",
       "\n",
       "         term  int_rate  installment grade  ... total_bal_il il_util  \\\n",
       "0   36 months     10.65       162.87     B  ...          NaN     NaN   \n",
       "1   60 months     15.27        59.83     C  ...          NaN     NaN   \n",
       "2   36 months     15.96        84.33     C  ...          NaN     NaN   \n",
       "3   36 months     13.49       339.31     C  ...          NaN     NaN   \n",
       "4   60 months     12.69        67.79     B  ...          NaN     NaN   \n",
       "\n",
       "  open_rv_12m open_rv_24m  max_bal_bc all_util total_rev_hi_lim inq_fi  \\\n",
       "0         NaN         NaN         NaN      NaN              NaN    NaN   \n",
       "1         NaN         NaN         NaN      NaN              NaN    NaN   \n",
       "2         NaN         NaN         NaN      NaN              NaN    NaN   \n",
       "3         NaN         NaN         NaN      NaN              NaN    NaN   \n",
       "4         NaN         NaN         NaN      NaN              NaN    NaN   \n",
       "\n",
       "  total_cu_tl inq_last_12m  \n",
       "0         NaN          NaN  \n",
       "1         NaN          NaN  \n",
       "2         NaN          NaN  \n",
       "3         NaN          NaN  \n",
       "4         NaN          NaN  \n",
       "\n",
       "[5 rows x 75 columns]"
      ]
     },
     "execution_count": 164,
     "metadata": {},
     "output_type": "execute_result"
    }
   ],
   "source": [
    "data_raw = pd.read_csv('loan_data_2007_2014.csv')\n",
    "data_raw.head()"
   ]
  },
  {
   "cell_type": "code",
   "execution_count": 165,
   "metadata": {},
   "outputs": [
    {
     "name": "stdout",
     "output_type": "stream",
     "text": [
      "<class 'pandas.core.frame.DataFrame'>\n",
      "RangeIndex: 466285 entries, 0 to 466284\n",
      "Data columns (total 75 columns):\n",
      " #   Column                       Non-Null Count   Dtype  \n",
      "---  ------                       --------------   -----  \n",
      " 0   Unnamed: 0                   466285 non-null  int64  \n",
      " 1   id                           466285 non-null  int64  \n",
      " 2   member_id                    466285 non-null  int64  \n",
      " 3   loan_amnt                    466285 non-null  int64  \n",
      " 4   funded_amnt                  466285 non-null  int64  \n",
      " 5   funded_amnt_inv              466285 non-null  float64\n",
      " 6   term                         466285 non-null  object \n",
      " 7   int_rate                     466285 non-null  float64\n",
      " 8   installment                  466285 non-null  float64\n",
      " 9   grade                        466285 non-null  object \n",
      " 10  sub_grade                    466285 non-null  object \n",
      " 11  emp_title                    438697 non-null  object \n",
      " 12  emp_length                   445277 non-null  object \n",
      " 13  home_ownership               466285 non-null  object \n",
      " 14  annual_inc                   466281 non-null  float64\n",
      " 15  verification_status          466285 non-null  object \n",
      " 16  issue_d                      466285 non-null  object \n",
      " 17  loan_status                  466285 non-null  object \n",
      " 18  pymnt_plan                   466285 non-null  object \n",
      " 19  url                          466285 non-null  object \n",
      " 20  desc                         125983 non-null  object \n",
      " 21  purpose                      466285 non-null  object \n",
      " 22  title                        466265 non-null  object \n",
      " 23  zip_code                     466285 non-null  object \n",
      " 24  addr_state                   466285 non-null  object \n",
      " 25  dti                          466285 non-null  float64\n",
      " 26  delinq_2yrs                  466256 non-null  float64\n",
      " 27  earliest_cr_line             466256 non-null  object \n",
      " 28  inq_last_6mths               466256 non-null  float64\n",
      " 29  mths_since_last_delinq       215934 non-null  float64\n",
      " 30  mths_since_last_record       62638 non-null   float64\n",
      " 31  open_acc                     466256 non-null  float64\n",
      " 32  pub_rec                      466256 non-null  float64\n",
      " 33  revol_bal                    466285 non-null  int64  \n",
      " 34  revol_util                   465945 non-null  float64\n",
      " 35  total_acc                    466256 non-null  float64\n",
      " 36  initial_list_status          466285 non-null  object \n",
      " 37  out_prncp                    466285 non-null  float64\n",
      " 38  out_prncp_inv                466285 non-null  float64\n",
      " 39  total_pymnt                  466285 non-null  float64\n",
      " 40  total_pymnt_inv              466285 non-null  float64\n",
      " 41  total_rec_prncp              466285 non-null  float64\n",
      " 42  total_rec_int                466285 non-null  float64\n",
      " 43  total_rec_late_fee           466285 non-null  float64\n",
      " 44  recoveries                   466285 non-null  float64\n",
      " 45  collection_recovery_fee      466285 non-null  float64\n",
      " 46  last_pymnt_d                 465909 non-null  object \n",
      " 47  last_pymnt_amnt              466285 non-null  float64\n",
      " 48  next_pymnt_d                 239071 non-null  object \n",
      " 49  last_credit_pull_d           466243 non-null  object \n",
      " 50  collections_12_mths_ex_med   466140 non-null  float64\n",
      " 51  mths_since_last_major_derog  98974 non-null   float64\n",
      " 52  policy_code                  466285 non-null  int64  \n",
      " 53  application_type             466285 non-null  object \n",
      " 54  annual_inc_joint             0 non-null       float64\n",
      " 55  dti_joint                    0 non-null       float64\n",
      " 56  verification_status_joint    0 non-null       float64\n",
      " 57  acc_now_delinq               466256 non-null  float64\n",
      " 58  tot_coll_amt                 396009 non-null  float64\n",
      " 59  tot_cur_bal                  396009 non-null  float64\n",
      " 60  open_acc_6m                  0 non-null       float64\n",
      " 61  open_il_6m                   0 non-null       float64\n",
      " 62  open_il_12m                  0 non-null       float64\n",
      " 63  open_il_24m                  0 non-null       float64\n",
      " 64  mths_since_rcnt_il           0 non-null       float64\n",
      " 65  total_bal_il                 0 non-null       float64\n",
      " 66  il_util                      0 non-null       float64\n",
      " 67  open_rv_12m                  0 non-null       float64\n",
      " 68  open_rv_24m                  0 non-null       float64\n",
      " 69  max_bal_bc                   0 non-null       float64\n",
      " 70  all_util                     0 non-null       float64\n",
      " 71  total_rev_hi_lim             396009 non-null  float64\n",
      " 72  inq_fi                       0 non-null       float64\n",
      " 73  total_cu_tl                  0 non-null       float64\n",
      " 74  inq_last_12m                 0 non-null       float64\n",
      "dtypes: float64(46), int64(7), object(22)\n",
      "memory usage: 266.8+ MB\n"
     ]
    }
   ],
   "source": [
    "data_raw.info()"
   ]
  },
  {
   "cell_type": "code",
   "execution_count": 166,
   "metadata": {},
   "outputs": [
    {
     "data": {
      "text/plain": [
       "['term',\n",
       " 'grade',\n",
       " 'sub_grade',\n",
       " 'emp_title',\n",
       " 'emp_length',\n",
       " 'home_ownership',\n",
       " 'verification_status',\n",
       " 'issue_d',\n",
       " 'loan_status',\n",
       " 'pymnt_plan',\n",
       " 'url',\n",
       " 'desc',\n",
       " 'purpose',\n",
       " 'title',\n",
       " 'zip_code',\n",
       " 'addr_state',\n",
       " 'earliest_cr_line',\n",
       " 'initial_list_status',\n",
       " 'last_pymnt_d',\n",
       " 'next_pymnt_d',\n",
       " 'last_credit_pull_d',\n",
       " 'application_type']"
      ]
     },
     "execution_count": 166,
     "metadata": {},
     "output_type": "execute_result"
    }
   ],
   "source": [
    "data_raw.select_dtypes(include='object').columns.to_list()"
   ]
  },
  {
   "attachments": {},
   "cell_type": "markdown",
   "metadata": {},
   "source": [
    "`Temuan`\n",
    "\n",
    "1. term, grade, emp_length, home_ownership akan dirubah menjadi `int`\n",
    "2. issue_d, last_pymnt_d, next_pymnt_d akan dirubah menjadi `datetime`\n",
    "3. loan_status akan menjadi dasar sumber dari `target model`"
   ]
  },
  {
   "cell_type": "code",
   "execution_count": 167,
   "metadata": {},
   "outputs": [
    {
     "data": {
      "image/png": "[encoded data removed]",
      "text/plain": [
       "<Figure size 640x480 with 1 Axes>"
      ]
     },
     "metadata": {},
     "output_type": "display_data"
    }
   ],
   "source": [
    "# persebaran jumlah data loan_status\n",
    "\n",
    "ax = sns.countplot(x=\"loan_status\", data=data_raw)\n",
    "\n",
    "ax.set_xticklabels(ax.get_xticklabels(), rotation=40, ha=\"right\")\n",
    "plt.tight_layout()\n",
    "plt.show()"
   ]
  },
  {
   "attachments": {},
   "cell_type": "markdown",
   "metadata": {},
   "source": [
    "`Temuan`\n",
    "\n",
    "1. Dapat dipastikan Fully paid (pembayaran lunas) akan menjadi nilai positif atau `good loan`\n",
    "2. Charged Off (pembayaran macet) dan Default (gagal bayar) akan menjadi nilai negatif atau `bad loan`\n",
    "3. Current (pembayaran lancar) dan status yang lain akan dipertanyakan, umumnya akan menjadi `good loan` namun saya akan membuat threshold beberapa data menjadi `bad loan` karena tujuan dari model ini untuk memprediksi risk dari loan tersebut.\n"
   ]
  },
  {
   "cell_type": "code",
   "execution_count": 168,
   "metadata": {},
   "outputs": [
    {
     "name": "stdout",
     "output_type": "stream",
     "text": [
      "Number of duplicate records: 0\n"
     ]
    }
   ],
   "source": [
    "# Find duplicate records\n",
    "duplicates = data_raw.duplicated()\n",
    "# Print the number of duplicate records\n",
    "print(\"Number of duplicate records:\", duplicates.sum())"
   ]
  },
  {
   "cell_type": "code",
   "execution_count": 169,
   "metadata": {},
   "outputs": [
    {
     "name": "stdout",
     "output_type": "stream",
     "text": [
      "100% Data Unique\n"
     ]
    }
   ],
   "source": [
    "print (\"{:.0%} Data Unique\".format(len(data_raw) / data_raw['member_id'].nunique()))"
   ]
  },
  {
   "attachments": {},
   "cell_type": "markdown",
   "metadata": {},
   "source": [
    "`Temuan`\n",
    "\n",
    "Tidak ditemukan duplikat data, dapat disimpulkan bahwa dataset benar merupakan data member loaners bukan transaksi"
   ]
  },
  {
   "cell_type": "code",
   "execution_count": 170,
   "metadata": {},
   "outputs": [
    {
     "data": {
      "text/plain": [
       "loan_status\n",
       "Charged Off                                            15.998834\n",
       "Current                                                13.773271\n",
       "Default                                                16.136394\n",
       "Does not meet the credit policy. Status:Charged Off    14.597148\n",
       "Does not meet the credit policy. Status:Fully Paid     13.978642\n",
       "Fully Paid                                             13.255943\n",
       "In Grace Period                                        15.827072\n",
       "Late (16-30 days)                                      15.964466\n",
       "Late (31-120 days)                                     15.947754\n",
       "Name: int_rate, dtype: float64"
      ]
     },
     "execution_count": 170,
     "metadata": {},
     "output_type": "execute_result"
    }
   ],
   "source": [
    "data_raw.groupby('loan_status')['int_rate'].mean()"
   ]
  },
  {
   "cell_type": "code",
   "execution_count": 171,
   "metadata": {},
   "outputs": [
    {
     "data": {
      "text/plain": [
       "loan_status\n",
       "Charged Off                                                0.000000\n",
       "Current                                                 8636.486069\n",
       "Default                                                10526.187320\n",
       "Does not meet the credit policy. Status:Charged Off        0.000000\n",
       "Does not meet the credit policy. Status:Fully Paid         0.000000\n",
       "Fully Paid                                                 0.000000\n",
       "In Grace Period                                         9378.247018\n",
       "Late (16-30 days)                                       9469.588440\n",
       "Late (31-120 days)                                     10039.815123\n",
       "Name: out_prncp_inv, dtype: float64"
      ]
     },
     "execution_count": 171,
     "metadata": {},
     "output_type": "execute_result"
    }
   ],
   "source": [
    "data_raw.groupby('loan_status')['out_prncp_inv'].mean()"
   ]
  },
  {
   "cell_type": "code",
   "execution_count": 172,
   "metadata": {},
   "outputs": [
    {
     "data": {
      "text/plain": [
       "<Axes: xlabel='home_ownership', ylabel='count'>"
      ]
     },
     "execution_count": 172,
     "metadata": {},
     "output_type": "execute_result"
    },
    {
     "data": {
      "image/png": "[encoded data removed]",
      "text/plain": [
       "<Figure size 640x480 with 1 Axes>"
      ]
     },
     "metadata": {},
     "output_type": "display_data"
    }
   ],
   "source": [
    "sns.countplot(x=\"home_ownership\", data=data_raw)"
   ]
  },
  {
   "cell_type": "code",
   "execution_count": 173,
   "metadata": {},
   "outputs": [
    {
     "data": {
      "text/plain": [
       "loan_status\n",
       "Current                                                85911\n",
       "Fully Paid                                             76025\n",
       "Charged Off                                            19906\n",
       "Late (31-120 days)                                      3097\n",
       "In Grace Period                                         1376\n",
       "Does not meet the credit policy. Status:Fully Paid       911\n",
       "Late (16-30 days)                                        483\n",
       "Default                                                  412\n",
       "Does not meet the credit policy. Status:Charged Off      352\n",
       "Name: loan_status, dtype: int64"
      ]
     },
     "execution_count": 173,
     "metadata": {},
     "output_type": "execute_result"
    }
   ],
   "source": [
    "data_raw[data_raw['home_ownership']=='RENT'].groupby('loan_status')['loan_status'].count().sort_values(ascending=False)"
   ]
  },
  {
   "cell_type": "code",
   "execution_count": 174,
   "metadata": {},
   "outputs": [
    {
     "data": {
      "text/plain": [
       "loan_status\n",
       "Current                                                117038\n",
       "Fully Paid                                              93221\n",
       "Charged Off                                             18799\n",
       "Late (31-120 days)                                       3142\n",
       "In Grace Period                                          1461\n",
       "Does not meet the credit policy. Status:Fully Paid        908\n",
       "Late (16-30 days)                                         607\n",
       "Default                                                   351\n",
       "Does not meet the credit policy. Status:Charged Off       348\n",
       "Name: loan_status, dtype: int64"
      ]
     },
     "execution_count": 174,
     "metadata": {},
     "output_type": "execute_result"
    }
   ],
   "source": [
    "data_raw[data_raw['home_ownership']=='MORTGAGE'].groupby('loan_status')['loan_status'].count().sort_values(ascending=False)"
   ]
  },
  {
   "cell_type": "code",
   "execution_count": 175,
   "metadata": {},
   "outputs": [
    {
     "data": {
      "text/plain": [
       "loan_status\n",
       "Current                                                21272\n",
       "Fully Paid                                             15342\n",
       "Charged Off                                             3736\n",
       "Late (31-120 days)                                       661\n",
       "In Grace Period                                          309\n",
       "Does not meet the credit policy. Status:Fully Paid       138\n",
       "Late (16-30 days)                                        128\n",
       "Default                                                   69\n",
       "Does not meet the credit policy. Status:Charged Off       49\n",
       "Name: loan_status, dtype: int64"
      ]
     },
     "execution_count": 175,
     "metadata": {},
     "output_type": "execute_result"
    }
   ],
   "source": [
    "data_raw[data_raw['home_ownership']=='OWN'].groupby('loan_status')['loan_status'].count().sort_values(ascending=False)"
   ]
  },
  {
   "attachments": {},
   "cell_type": "markdown",
   "metadata": {},
   "source": [
    "`Temuan`\n",
    "\n",
    "1. Home ownership tidak terlalu mempengaruhi loan_status\n",
    "2. Disamping itu karena data `bad_loan` sendiri juga tidak terlalu banyak dibandingkan `good_loan` dan status loan lainnya"
   ]
  },
  {
   "attachments": {},
   "cell_type": "markdown",
   "metadata": {},
   "source": [
    "# Data Preprocessing"
   ]
  },
  {
   "attachments": {},
   "cell_type": "markdown",
   "metadata": {},
   "source": [
    "## Feature Selection"
   ]
  },
  {
   "attachments": {},
   "cell_type": "markdown",
   "metadata": {},
   "source": [
    "`Berdasarkan feature importance pada notebook CreditRisk_FeatureImportance dan asumsi`"
   ]
  },
  {
   "cell_type": "code",
   "execution_count": 176,
   "metadata": {},
   "outputs": [],
   "source": [
    "df = data_raw[['loan_amnt','funded_amnt', 'term', 'int_rate', 'installment', 'grade', 'emp_length', 'home_ownership', 'annual_inc', 'issue_d',\n",
    "               'loan_status','dti','delinq_2yrs', 'inq_last_6mths', 'mths_since_last_delinq', 'mths_since_last_record', 'open_acc', 'pub_rec',\n",
    "               'revol_bal', 'revol_util', 'total_acc', 'out_prncp_inv', 'total_rec_late_fee', 'last_pymnt_d', 'last_credit_pull_d']].copy()"
   ]
  },
  {
   "attachments": {},
   "cell_type": "markdown",
   "metadata": {},
   "source": [
    "## Missing Value"
   ]
  },
  {
   "cell_type": "code",
   "execution_count": 177,
   "metadata": {},
   "outputs": [
    {
     "data": {
      "text/plain": [
       "mths_since_last_record    86.566585\n",
       "mths_since_last_delinq    53.690554\n",
       "emp_length                 4.505399\n",
       "last_pymnt_d               0.080637\n",
       "revol_util                 0.072917\n",
       "last_credit_pull_d         0.009007\n",
       "delinq_2yrs                0.006219\n",
       "inq_last_6mths             0.006219\n",
       "open_acc                   0.006219\n",
       "pub_rec                    0.006219\n",
       "total_acc                  0.006219\n",
       "annual_inc                 0.000858\n",
       "dtype: float64"
      ]
     },
     "execution_count": 177,
     "metadata": {},
     "output_type": "execute_result"
    }
   ],
   "source": [
    "check_missing = df.isnull().sum() * 100 / df.shape[0]\n",
    "check_missing[check_missing > 0].sort_values(ascending=False)"
   ]
  },
  {
   "cell_type": "code",
   "execution_count": 178,
   "metadata": {},
   "outputs": [],
   "source": [
    "# drop missing value > 75%\n",
    "df.drop('mths_since_last_record', axis=1, inplace=True)"
   ]
  },
  {
   "cell_type": "code",
   "execution_count": 179,
   "metadata": {},
   "outputs": [],
   "source": [
    "df['annual_inc'].fillna(df['annual_inc'].mean(), inplace=True)\n",
    "df['total_acc'].fillna(0, inplace=True)\n",
    "df['pub_rec'].fillna(0, inplace=True)\n",
    "df['open_acc'].fillna(0, inplace=True)\n",
    "df['inq_last_6mths'].fillna(0, inplace=True)\n",
    "df['delinq_2yrs'].fillna(0, inplace=True)\n",
    "df['revol_util'].fillna(0, inplace=True)\n",
    "df['emp_length'].fillna(0, inplace=True)\n",
    "df['mths_since_last_delinq'].fillna(0, inplace=True)\n",
    "df.dropna(subset=['last_pymnt_d', 'last_credit_pull_d'], inplace=True)"
   ]
  },
  {
   "cell_type": "code",
   "execution_count": 180,
   "metadata": {},
   "outputs": [
    {
     "name": "stdout",
     "output_type": "stream",
     "text": [
      "<class 'pandas.core.frame.DataFrame'>\n",
      "Int64Index: 465867 entries, 0 to 466284\n",
      "Data columns (total 24 columns):\n",
      " #   Column                  Non-Null Count   Dtype  \n",
      "---  ------                  --------------   -----  \n",
      " 0   loan_amnt               465867 non-null  int64  \n",
      " 1   funded_amnt             465867 non-null  int64  \n",
      " 2   term                    465867 non-null  object \n",
      " 3   int_rate                465867 non-null  float64\n",
      " 4   installment             465867 non-null  float64\n",
      " 5   grade                   465867 non-null  object \n",
      " 6   emp_length              465867 non-null  object \n",
      " 7   home_ownership          465867 non-null  object \n",
      " 8   annual_inc              465867 non-null  float64\n",
      " 9   issue_d                 465867 non-null  object \n",
      " 10  loan_status             465867 non-null  object \n",
      " 11  dti                     465867 non-null  float64\n",
      " 12  delinq_2yrs             465867 non-null  float64\n",
      " 13  inq_last_6mths          465867 non-null  float64\n",
      " 14  mths_since_last_delinq  465867 non-null  float64\n",
      " 15  open_acc                465867 non-null  float64\n",
      " 16  pub_rec                 465867 non-null  float64\n",
      " 17  revol_bal               465867 non-null  int64  \n",
      " 18  revol_util              465867 non-null  float64\n",
      " 19  total_acc               465867 non-null  float64\n",
      " 20  out_prncp_inv           465867 non-null  float64\n",
      " 21  total_rec_late_fee      465867 non-null  float64\n",
      " 22  last_pymnt_d            465867 non-null  object \n",
      " 23  last_credit_pull_d      465867 non-null  object \n",
      "dtypes: float64(13), int64(3), object(8)\n",
      "memory usage: 88.9+ MB\n"
     ]
    }
   ],
   "source": [
    "df.info()"
   ]
  },
  {
   "attachments": {},
   "cell_type": "markdown",
   "metadata": {},
   "source": [
    "## Feature Engineering"
   ]
  },
  {
   "cell_type": "code",
   "execution_count": 181,
   "metadata": {},
   "outputs": [],
   "source": [
    "df_train = df.copy()"
   ]
  },
  {
   "attachments": {},
   "cell_type": "markdown",
   "metadata": {},
   "source": [
    "### `mths_check`\n",
    "Perbedaan jumlah bulan dari tgl pengecekan terakhir credit history dan tgl pembayaran terakhir"
   ]
  },
  {
   "cell_type": "code",
   "execution_count": 182,
   "metadata": {},
   "outputs": [],
   "source": [
    "df_train['last_credit_pull_d'] = pd.to_datetime(df_train['last_credit_pull_d'], format='%b-%y')\n",
    "df_train['last_pymnt_d'] = pd.to_datetime(df_train['last_pymnt_d'], format='%b-%y')\n",
    "df_train['mths_check'] = round((df_train['last_credit_pull_d'] - df_train['last_pymnt_d'])/np.timedelta64(1, 'M'))"
   ]
  },
  {
   "cell_type": "code",
   "execution_count": 183,
   "metadata": {},
   "outputs": [
    {
     "name": "stdout",
     "output_type": "stream",
     "text": [
      "0   2016-01-01\n",
      "Name: last_credit_pull_d, dtype: datetime64[ns]\n",
      "0   2015-01-01\n",
      "Name: last_pymnt_d, dtype: datetime64[ns]\n",
      "0    12.0\n",
      "Name: mths_check, dtype: float64\n"
     ]
    }
   ],
   "source": [
    "print(df_train[:1]['last_credit_pull_d'])\n",
    "print(df_train[:1]['last_pymnt_d'])\n",
    "print(df_train[:1]['mths_check'])"
   ]
  },
  {
   "cell_type": "code",
   "execution_count": 184,
   "metadata": {},
   "outputs": [
    {
     "data": {
      "text/plain": [
       "count    832.000000\n",
       "mean       4.566106\n",
       "std        1.221727\n",
       "min       -7.000000\n",
       "25%        5.000000\n",
       "50%        5.000000\n",
       "75%        5.000000\n",
       "max        7.000000\n",
       "Name: mths_check, dtype: float64"
      ]
     },
     "execution_count": 184,
     "metadata": {},
     "output_type": "execute_result"
    }
   ],
   "source": [
    "df_train[df_train['loan_status']=='Default']['mths_check'].describe()"
   ]
  },
  {
   "cell_type": "code",
   "execution_count": 185,
   "metadata": {},
   "outputs": [
    {
     "data": {
      "text/plain": [
       "count    42105.000000\n",
       "mean        10.319273\n",
       "std         11.815916\n",
       "min        -18.000000\n",
       "25%          5.000000\n",
       "50%          5.000000\n",
       "75%         11.000000\n",
       "max         94.000000\n",
       "Name: mths_check, dtype: float64"
      ]
     },
     "execution_count": 185,
     "metadata": {},
     "output_type": "execute_result"
    }
   ],
   "source": [
    "df_train[df_train['loan_status']=='Charged Off']['mths_check'].describe()"
   ]
  },
  {
   "cell_type": "code",
   "execution_count": 186,
   "metadata": {},
   "outputs": [
    {
     "data": {
      "text/plain": [
       "count    184724.000000\n",
       "mean          7.689082\n",
       "std          10.695265\n",
       "min         -44.000000\n",
       "25%           0.000000\n",
       "50%           3.000000\n",
       "75%          12.000000\n",
       "max          92.000000\n",
       "Name: mths_check, dtype: float64"
      ]
     },
     "execution_count": 186,
     "metadata": {},
     "output_type": "execute_result"
    }
   ],
   "source": [
    "df_train[df_train['loan_status']=='Fully Paid']['mths_check'].describe()"
   ]
  },
  {
   "cell_type": "code",
   "execution_count": 187,
   "metadata": {},
   "outputs": [
    {
     "data": {
      "text/html": [
       "<div>\n",
       "<style scoped>\n",
       "    .dataframe tbody tr th:only-of-type {\n",
       "        vertical-align: middle;\n",
       "    }\n",
       "\n",
       "    .dataframe tbody tr th {\n",
       "        vertical-align: top;\n",
       "    }\n",
       "\n",
       "    .dataframe thead th {\n",
       "        text-align: right;\n",
       "    }\n",
       "</style>\n",
       "<table border=\"1\" class=\"dataframe\">\n",
       "  <thead>\n",
       "    <tr style=\"text-align: right;\">\n",
       "      <th></th>\n",
       "      <th>loan_amnt</th>\n",
       "      <th>funded_amnt</th>\n",
       "      <th>term</th>\n",
       "      <th>int_rate</th>\n",
       "      <th>installment</th>\n",
       "      <th>grade</th>\n",
       "      <th>emp_length</th>\n",
       "      <th>home_ownership</th>\n",
       "      <th>annual_inc</th>\n",
       "      <th>issue_d</th>\n",
       "      <th>...</th>\n",
       "      <th>open_acc</th>\n",
       "      <th>pub_rec</th>\n",
       "      <th>revol_bal</th>\n",
       "      <th>revol_util</th>\n",
       "      <th>total_acc</th>\n",
       "      <th>out_prncp_inv</th>\n",
       "      <th>total_rec_late_fee</th>\n",
       "      <th>last_pymnt_d</th>\n",
       "      <th>last_credit_pull_d</th>\n",
       "      <th>mths_check</th>\n",
       "    </tr>\n",
       "  </thead>\n",
       "  <tbody>\n",
       "    <tr>\n",
       "      <th>0</th>\n",
       "      <td>5000</td>\n",
       "      <td>5000</td>\n",
       "      <td>36 months</td>\n",
       "      <td>10.65</td>\n",
       "      <td>162.87</td>\n",
       "      <td>B</td>\n",
       "      <td>10+ years</td>\n",
       "      <td>RENT</td>\n",
       "      <td>24000.0</td>\n",
       "      <td>Dec-11</td>\n",
       "      <td>...</td>\n",
       "      <td>3.0</td>\n",
       "      <td>0.0</td>\n",
       "      <td>13648</td>\n",
       "      <td>83.7</td>\n",
       "      <td>9.0</td>\n",
       "      <td>0.0</td>\n",
       "      <td>0.0</td>\n",
       "      <td>2015-01-01</td>\n",
       "      <td>2016-01-01</td>\n",
       "      <td>12.0</td>\n",
       "    </tr>\n",
       "    <tr>\n",
       "      <th>2</th>\n",
       "      <td>2400</td>\n",
       "      <td>2400</td>\n",
       "      <td>36 months</td>\n",
       "      <td>15.96</td>\n",
       "      <td>84.33</td>\n",
       "      <td>C</td>\n",
       "      <td>10+ years</td>\n",
       "      <td>RENT</td>\n",
       "      <td>12252.0</td>\n",
       "      <td>Dec-11</td>\n",
       "      <td>...</td>\n",
       "      <td>2.0</td>\n",
       "      <td>0.0</td>\n",
       "      <td>2956</td>\n",
       "      <td>98.5</td>\n",
       "      <td>10.0</td>\n",
       "      <td>0.0</td>\n",
       "      <td>0.0</td>\n",
       "      <td>2014-06-01</td>\n",
       "      <td>2016-01-01</td>\n",
       "      <td>19.0</td>\n",
       "    </tr>\n",
       "    <tr>\n",
       "      <th>5</th>\n",
       "      <td>5000</td>\n",
       "      <td>5000</td>\n",
       "      <td>36 months</td>\n",
       "      <td>7.90</td>\n",
       "      <td>156.46</td>\n",
       "      <td>A</td>\n",
       "      <td>3 years</td>\n",
       "      <td>RENT</td>\n",
       "      <td>36000.0</td>\n",
       "      <td>Dec-11</td>\n",
       "      <td>...</td>\n",
       "      <td>9.0</td>\n",
       "      <td>0.0</td>\n",
       "      <td>7963</td>\n",
       "      <td>28.3</td>\n",
       "      <td>12.0</td>\n",
       "      <td>0.0</td>\n",
       "      <td>0.0</td>\n",
       "      <td>2015-01-01</td>\n",
       "      <td>2015-09-01</td>\n",
       "      <td>8.0</td>\n",
       "    </tr>\n",
       "    <tr>\n",
       "      <th>10</th>\n",
       "      <td>6500</td>\n",
       "      <td>6500</td>\n",
       "      <td>60 months</td>\n",
       "      <td>14.65</td>\n",
       "      <td>153.45</td>\n",
       "      <td>C</td>\n",
       "      <td>5 years</td>\n",
       "      <td>OWN</td>\n",
       "      <td>72000.0</td>\n",
       "      <td>Dec-11</td>\n",
       "      <td>...</td>\n",
       "      <td>14.0</td>\n",
       "      <td>0.0</td>\n",
       "      <td>4032</td>\n",
       "      <td>20.6</td>\n",
       "      <td>23.0</td>\n",
       "      <td>0.0</td>\n",
       "      <td>0.0</td>\n",
       "      <td>2013-06-01</td>\n",
       "      <td>2015-12-01</td>\n",
       "      <td>30.0</td>\n",
       "    </tr>\n",
       "    <tr>\n",
       "      <th>13</th>\n",
       "      <td>3000</td>\n",
       "      <td>3000</td>\n",
       "      <td>36 months</td>\n",
       "      <td>9.91</td>\n",
       "      <td>96.68</td>\n",
       "      <td>B</td>\n",
       "      <td>3 years</td>\n",
       "      <td>RENT</td>\n",
       "      <td>15000.0</td>\n",
       "      <td>Dec-11</td>\n",
       "      <td>...</td>\n",
       "      <td>11.0</td>\n",
       "      <td>0.0</td>\n",
       "      <td>7323</td>\n",
       "      <td>43.1</td>\n",
       "      <td>11.0</td>\n",
       "      <td>0.0</td>\n",
       "      <td>0.0</td>\n",
       "      <td>2015-01-01</td>\n",
       "      <td>2016-01-01</td>\n",
       "      <td>12.0</td>\n",
       "    </tr>\n",
       "    <tr>\n",
       "      <th>...</th>\n",
       "      <td>...</td>\n",
       "      <td>...</td>\n",
       "      <td>...</td>\n",
       "      <td>...</td>\n",
       "      <td>...</td>\n",
       "      <td>...</td>\n",
       "      <td>...</td>\n",
       "      <td>...</td>\n",
       "      <td>...</td>\n",
       "      <td>...</td>\n",
       "      <td>...</td>\n",
       "      <td>...</td>\n",
       "      <td>...</td>\n",
       "      <td>...</td>\n",
       "      <td>...</td>\n",
       "      <td>...</td>\n",
       "      <td>...</td>\n",
       "      <td>...</td>\n",
       "      <td>...</td>\n",
       "      <td>...</td>\n",
       "      <td>...</td>\n",
       "    </tr>\n",
       "    <tr>\n",
       "      <th>466241</th>\n",
       "      <td>7200</td>\n",
       "      <td>7200</td>\n",
       "      <td>36 months</td>\n",
       "      <td>14.98</td>\n",
       "      <td>249.52</td>\n",
       "      <td>C</td>\n",
       "      <td>&lt; 1 year</td>\n",
       "      <td>RENT</td>\n",
       "      <td>35000.0</td>\n",
       "      <td>Jan-14</td>\n",
       "      <td>...</td>\n",
       "      <td>6.0</td>\n",
       "      <td>0.0</td>\n",
       "      <td>3956</td>\n",
       "      <td>74.6</td>\n",
       "      <td>15.0</td>\n",
       "      <td>0.0</td>\n",
       "      <td>0.0</td>\n",
       "      <td>2015-05-01</td>\n",
       "      <td>2016-01-01</td>\n",
       "      <td>8.0</td>\n",
       "    </tr>\n",
       "    <tr>\n",
       "      <th>466259</th>\n",
       "      <td>18000</td>\n",
       "      <td>18000</td>\n",
       "      <td>36 months</td>\n",
       "      <td>15.61</td>\n",
       "      <td>629.37</td>\n",
       "      <td>C</td>\n",
       "      <td>4 years</td>\n",
       "      <td>RENT</td>\n",
       "      <td>48000.0</td>\n",
       "      <td>Jan-14</td>\n",
       "      <td>...</td>\n",
       "      <td>9.0</td>\n",
       "      <td>1.0</td>\n",
       "      <td>6126</td>\n",
       "      <td>66.6</td>\n",
       "      <td>18.0</td>\n",
       "      <td>0.0</td>\n",
       "      <td>0.0</td>\n",
       "      <td>2015-07-01</td>\n",
       "      <td>2016-01-01</td>\n",
       "      <td>6.0</td>\n",
       "    </tr>\n",
       "    <tr>\n",
       "      <th>466263</th>\n",
       "      <td>15250</td>\n",
       "      <td>15250</td>\n",
       "      <td>36 months</td>\n",
       "      <td>17.57</td>\n",
       "      <td>548.05</td>\n",
       "      <td>D</td>\n",
       "      <td>10+ years</td>\n",
       "      <td>MORTGAGE</td>\n",
       "      <td>65000.0</td>\n",
       "      <td>Jan-14</td>\n",
       "      <td>...</td>\n",
       "      <td>8.0</td>\n",
       "      <td>2.0</td>\n",
       "      <td>6122</td>\n",
       "      <td>15.2</td>\n",
       "      <td>26.0</td>\n",
       "      <td>0.0</td>\n",
       "      <td>0.0</td>\n",
       "      <td>2014-04-01</td>\n",
       "      <td>2015-09-01</td>\n",
       "      <td>17.0</td>\n",
       "    </tr>\n",
       "    <tr>\n",
       "      <th>466265</th>\n",
       "      <td>32000</td>\n",
       "      <td>32000</td>\n",
       "      <td>36 months</td>\n",
       "      <td>7.90</td>\n",
       "      <td>1001.29</td>\n",
       "      <td>A</td>\n",
       "      <td>0</td>\n",
       "      <td>MORTGAGE</td>\n",
       "      <td>128000.0</td>\n",
       "      <td>Jan-14</td>\n",
       "      <td>...</td>\n",
       "      <td>11.0</td>\n",
       "      <td>0.0</td>\n",
       "      <td>5400</td>\n",
       "      <td>17.5</td>\n",
       "      <td>35.0</td>\n",
       "      <td>0.0</td>\n",
       "      <td>0.0</td>\n",
       "      <td>2015-04-01</td>\n",
       "      <td>2015-12-01</td>\n",
       "      <td>8.0</td>\n",
       "    </tr>\n",
       "    <tr>\n",
       "      <th>466275</th>\n",
       "      <td>6000</td>\n",
       "      <td>6000</td>\n",
       "      <td>36 months</td>\n",
       "      <td>15.61</td>\n",
       "      <td>209.79</td>\n",
       "      <td>C</td>\n",
       "      <td>7 years</td>\n",
       "      <td>RENT</td>\n",
       "      <td>27000.0</td>\n",
       "      <td>Jan-14</td>\n",
       "      <td>...</td>\n",
       "      <td>8.0</td>\n",
       "      <td>1.0</td>\n",
       "      <td>6025</td>\n",
       "      <td>57.4</td>\n",
       "      <td>16.0</td>\n",
       "      <td>0.0</td>\n",
       "      <td>0.0</td>\n",
       "      <td>2015-03-01</td>\n",
       "      <td>2016-01-01</td>\n",
       "      <td>10.0</td>\n",
       "    </tr>\n",
       "  </tbody>\n",
       "</table>\n",
       "<p>78850 rows × 25 columns</p>\n",
       "</div>"
      ],
      "text/plain": [
       "        loan_amnt  funded_amnt        term  int_rate  installment grade  \\\n",
       "0            5000         5000   36 months     10.65       162.87     B   \n",
       "2            2400         2400   36 months     15.96        84.33     C   \n",
       "5            5000         5000   36 months      7.90       156.46     A   \n",
       "10           6500         6500   60 months     14.65       153.45     C   \n",
       "13           3000         3000   36 months      9.91        96.68     B   \n",
       "...           ...          ...         ...       ...          ...   ...   \n",
       "466241       7200         7200   36 months     14.98       249.52     C   \n",
       "466259      18000        18000   36 months     15.61       629.37     C   \n",
       "466263      15250        15250   36 months     17.57       548.05     D   \n",
       "466265      32000        32000   36 months      7.90      1001.29     A   \n",
       "466275       6000         6000   36 months     15.61       209.79     C   \n",
       "\n",
       "       emp_length home_ownership  annual_inc issue_d  ... open_acc  pub_rec  \\\n",
       "0       10+ years           RENT     24000.0  Dec-11  ...      3.0      0.0   \n",
       "2       10+ years           RENT     12252.0  Dec-11  ...      2.0      0.0   \n",
       "5         3 years           RENT     36000.0  Dec-11  ...      9.0      0.0   \n",
       "10        5 years            OWN     72000.0  Dec-11  ...     14.0      0.0   \n",
       "13        3 years           RENT     15000.0  Dec-11  ...     11.0      0.0   \n",
       "...           ...            ...         ...     ...  ...      ...      ...   \n",
       "466241   < 1 year           RENT     35000.0  Jan-14  ...      6.0      0.0   \n",
       "466259    4 years           RENT     48000.0  Jan-14  ...      9.0      1.0   \n",
       "466263  10+ years       MORTGAGE     65000.0  Jan-14  ...      8.0      2.0   \n",
       "466265          0       MORTGAGE    128000.0  Jan-14  ...     11.0      0.0   \n",
       "466275    7 years           RENT     27000.0  Jan-14  ...      8.0      1.0   \n",
       "\n",
       "        revol_bal  revol_util  total_acc  out_prncp_inv  total_rec_late_fee  \\\n",
       "0           13648        83.7        9.0            0.0                 0.0   \n",
       "2            2956        98.5       10.0            0.0                 0.0   \n",
       "5            7963        28.3       12.0            0.0                 0.0   \n",
       "10           4032        20.6       23.0            0.0                 0.0   \n",
       "13           7323        43.1       11.0            0.0                 0.0   \n",
       "...           ...         ...        ...            ...                 ...   \n",
       "466241       3956        74.6       15.0            0.0                 0.0   \n",
       "466259       6126        66.6       18.0            0.0                 0.0   \n",
       "466263       6122        15.2       26.0            0.0                 0.0   \n",
       "466265       5400        17.5       35.0            0.0                 0.0   \n",
       "466275       6025        57.4       16.0            0.0                 0.0   \n",
       "\n",
       "        last_pymnt_d  last_credit_pull_d  mths_check  \n",
       "0         2015-01-01          2016-01-01        12.0  \n",
       "2         2014-06-01          2016-01-01        19.0  \n",
       "5         2015-01-01          2015-09-01         8.0  \n",
       "10        2013-06-01          2015-12-01        30.0  \n",
       "13        2015-01-01          2016-01-01        12.0  \n",
       "...              ...                 ...         ...  \n",
       "466241    2015-05-01          2016-01-01         8.0  \n",
       "466259    2015-07-01          2016-01-01         6.0  \n",
       "466263    2014-04-01          2015-09-01        17.0  \n",
       "466265    2015-04-01          2015-12-01         8.0  \n",
       "466275    2015-03-01          2016-01-01        10.0  \n",
       "\n",
       "[78850 rows x 25 columns]"
      ]
     },
     "execution_count": 187,
     "metadata": {},
     "output_type": "execute_result"
    }
   ],
   "source": [
    "df_train[(df_train['loan_status']=='Fully Paid') &\n",
    "         (df_train['mths_check']>5)]"
   ]
  },
  {
   "cell_type": "code",
   "execution_count": 188,
   "metadata": {},
   "outputs": [
    {
     "data": {
      "text/plain": [
       "count    224207.000000\n",
       "mean          0.177809\n",
       "std           0.817661\n",
       "min         -49.000000\n",
       "25%           0.000000\n",
       "50%           0.000000\n",
       "75%           0.000000\n",
       "max           1.000000\n",
       "Name: mths_check, dtype: float64"
      ]
     },
     "execution_count": 188,
     "metadata": {},
     "output_type": "execute_result"
    }
   ],
   "source": [
    "df_train[df_train['loan_status']=='Current']['mths_check'].describe()"
   ]
  },
  {
   "cell_type": "code",
   "execution_count": 189,
   "metadata": {},
   "outputs": [
    {
     "name": "stdout",
     "output_type": "stream",
     "text": [
      "1116   2013-03-01\n",
      "Name: last_credit_pull_d, dtype: datetime64[ns]\n",
      "1116   2016-01-01\n",
      "Name: last_pymnt_d, dtype: datetime64[ns]\n",
      "1116   -34.0\n",
      "Name: mths_check, dtype: float64\n"
     ]
    }
   ],
   "source": [
    "print(df_train[(df_train['loan_status']=='Current') &\n",
    "         (df_train['mths_check']<0)][:1]['last_credit_pull_d'])\n",
    "print(df_train[(df_train['loan_status']=='Current') &\n",
    "         (df_train['mths_check']<0)][:1]['last_pymnt_d'])\n",
    "print(df_train[(df_train['loan_status']=='Current') &\n",
    "         (df_train['mths_check']<0)][:1]['mths_check'])"
   ]
  },
  {
   "attachments": {},
   "cell_type": "markdown",
   "metadata": {},
   "source": [
    "### `finish_d`  \n",
    "Tanggal dimana pembayaran seharusnya selesai sesuai term"
   ]
  },
  {
   "cell_type": "code",
   "execution_count": 190,
   "metadata": {},
   "outputs": [],
   "source": [
    "df_train['term'] = df_train['term'].str.replace(' months', '')\n",
    "df_train['term'] = df_train['term'].astype('int')"
   ]
  },
  {
   "cell_type": "code",
   "execution_count": 191,
   "metadata": {},
   "outputs": [],
   "source": [
    "df_train['issue_d'] = pd.to_datetime(df_train['issue_d'], format='%b-%y')\n",
    "df_train['finish_d'] = ((df_train['issue_d'].dt.to_period('M')) + df_train['term']).dt.to_timestamp()"
   ]
  },
  {
   "attachments": {},
   "cell_type": "markdown",
   "metadata": {},
   "source": [
    "### `mths_remain` \n",
    "Jumlah bulan yang tersisa untuk menyelesaikan pembayaran sesuai finish_d"
   ]
  },
  {
   "cell_type": "code",
   "execution_count": 192,
   "metadata": {},
   "outputs": [],
   "source": [
    "df_train['mths_remain'] = round((df_train['finish_d'] - df_train['last_pymnt_d'])/np.timedelta64(1, 'M'))"
   ]
  },
  {
   "cell_type": "code",
   "execution_count": 193,
   "metadata": {},
   "outputs": [
    {
     "name": "stdout",
     "output_type": "stream",
     "text": [
      "0   2014-12-01\n",
      "Name: finish_d, dtype: datetime64[ns]\n",
      "0   2015-01-01\n",
      "Name: last_pymnt_d, dtype: datetime64[ns]\n",
      "0   -1.0\n",
      "Name: mths_remain, dtype: float64\n"
     ]
    }
   ],
   "source": [
    "print(df_train[:1]['finish_d'])\n",
    "print(df_train[:1]['last_pymnt_d'])\n",
    "print(df_train[:1]['mths_remain'])"
   ]
  },
  {
   "attachments": {},
   "cell_type": "markdown",
   "metadata": {},
   "source": [
    "### `paid_potention` \n",
    "Kemampuan loaners untuk membayar sisa pembayaran sampai tanggal penyelesaian sesuai dengan income"
   ]
  },
  {
   "cell_type": "code",
   "execution_count": 194,
   "metadata": {},
   "outputs": [],
   "source": [
    "df_train['paid_potention'] = round(((df_train['annual_inc']/12) * df_train['mths_remain']) - df_train['out_prncp_inv'])"
   ]
  },
  {
   "cell_type": "code",
   "execution_count": 195,
   "metadata": {},
   "outputs": [
    {
     "data": {
      "text/plain": [
       "370"
      ]
     },
     "execution_count": 195,
     "metadata": {},
     "output_type": "execute_result"
    }
   ],
   "source": [
    "len(df_train[(df_train['loan_status']=='Current') &\n",
    "         (df_train['paid_potention']<0)])"
   ]
  },
  {
   "attachments": {},
   "cell_type": "markdown",
   "metadata": {},
   "source": [
    "### emp_length"
   ]
  },
  {
   "cell_type": "code",
   "execution_count": 196,
   "metadata": {},
   "outputs": [
    {
     "data": {
      "text/plain": [
       "array([10,  0,  1,  3,  8,  9,  4,  5,  6,  2,  7])"
      ]
     },
     "execution_count": 196,
     "metadata": {},
     "output_type": "execute_result"
    }
   ],
   "source": [
    "df_train = df_train.replace({'emp_length' : { '< 1 year' : '0 years', '1 year' : '1 years', '10+ years' : '10 years'}})\n",
    "df_train['emp_length'] = df_train['emp_length'].fillna('0 years')\n",
    "df_train['emp_length'] = df_train['emp_length'].replace(' years', '', regex=True)\n",
    "df_train['emp_length'] = df_train['emp_length'].astype('int')\n",
    "df_train['emp_length'].unique()"
   ]
  },
  {
   "attachments": {},
   "cell_type": "markdown",
   "metadata": {},
   "source": [
    "### home_ownership"
   ]
  },
  {
   "cell_type": "code",
   "execution_count": 197,
   "metadata": {},
   "outputs": [],
   "source": [
    "df_train = df_train.replace({'home_ownership' : { 'MORTGAGE' : 0, 'RENT' : 0, 'OWN' : 1, 'NONE': 1, 'ANY':1, 'OTHER':1}})"
   ]
  },
  {
   "attachments": {},
   "cell_type": "markdown",
   "metadata": {},
   "source": [
    "###  grade"
   ]
  },
  {
   "cell_type": "code",
   "execution_count": 198,
   "metadata": {},
   "outputs": [],
   "source": [
    "from sklearn.preprocessing import LabelEncoder\n",
    "\n",
    "le=LabelEncoder()\n",
    "\n",
    "df_train['grade'] = le.fit_transform(df_train['grade'])\n",
    "#df_train['verification_status']=le.fit_transform(df_train['verification_status'])\n",
    "#df_train['initial_list_status']=le.fit_transform(df_train['initial_list_status'])"
   ]
  },
  {
   "attachments": {},
   "cell_type": "markdown",
   "metadata": {},
   "source": [
    "### `risk` - TARGET Modelling"
   ]
  },
  {
   "cell_type": "code",
   "execution_count": 199,
   "metadata": {},
   "outputs": [
    {
     "data": {
      "text/plain": [
       "array(['Fully Paid', 'Charged Off', 'Current', 'Default',\n",
       "       'Late (31-120 days)', 'In Grace Period', 'Late (16-30 days)',\n",
       "       'Does not meet the credit policy. Status:Fully Paid',\n",
       "       'Does not meet the credit policy. Status:Charged Off'],\n",
       "      dtype=object)"
      ]
     },
     "execution_count": 199,
     "metadata": {},
     "output_type": "execute_result"
    }
   ],
   "source": [
    "df_train['loan_status'].unique()"
   ]
  },
  {
   "cell_type": "code",
   "execution_count": 200,
   "metadata": {},
   "outputs": [],
   "source": [
    "bad = [\n",
    "    'Charged Off',\n",
    "    'Default',\n",
    "    'Does not meet the credit policy. Status:Charged Off'\n",
    "]\n",
    "\n",
    "df_train['risk'] = np.where(df_train['loan_status'].isin(bad), 1, 0)"
   ]
  },
  {
   "cell_type": "code",
   "execution_count": 201,
   "metadata": {},
   "outputs": [
    {
     "data": {
      "text/plain": [
       "0    90.622646\n",
       "1     9.377354\n",
       "Name: risk, dtype: float64"
      ]
     },
     "execution_count": 201,
     "metadata": {},
     "output_type": "execute_result"
    }
   ],
   "source": [
    "df_train['risk'].value_counts(normalize=True)*100"
   ]
  },
  {
   "cell_type": "code",
   "execution_count": 202,
   "metadata": {},
   "outputs": [],
   "source": [
    "df_train.loc[((df_train['loan_status']=='Current') & ((df_train['mths_check']>=3) | (df_train['paid_potention']<0))), 'risk'] = 1\n",
    "df_train.loc[((df_train['loan_status']=='Late (31-120 days)') & ((df_train['mths_check']>=3) | (df_train['paid_potention']<0))), 'risk'] = 1\n",
    "df_train.loc[((df_train['loan_status']=='Late (16-30 days)') & ((df_train['mths_check']>=3) | (df_train['paid_potention']<0))), 'risk'] = 1\n",
    "df_train.loc[((df_train['loan_status']=='In Grace Period') & ((df_train['mths_check']>=3) | (df_train['paid_potention']<0))), 'risk'] = 1"
   ]
  },
  {
   "cell_type": "code",
   "execution_count": 203,
   "metadata": {},
   "outputs": [
    {
     "data": {
      "text/plain": [
       "0    89.784638\n",
       "1    10.215362\n",
       "Name: risk, dtype: float64"
      ]
     },
     "execution_count": 203,
     "metadata": {},
     "output_type": "execute_result"
    }
   ],
   "source": [
    "df_train['risk'].value_counts(normalize=True)*100"
   ]
  },
  {
   "attachments": {},
   "cell_type": "markdown",
   "metadata": {},
   "source": [
    "## Feature Transformation"
   ]
  },
  {
   "attachments": {},
   "cell_type": "markdown",
   "metadata": {},
   "source": [
    "### Split Data"
   ]
  },
  {
   "cell_type": "code",
   "execution_count": 204,
   "metadata": {},
   "outputs": [],
   "source": [
    "X = df_train[['loan_amnt','funded_amnt', 'int_rate', 'installment', 'grade', 'emp_length', 'home_ownership', 'dti','delinq_2yrs', \n",
    "            'inq_last_6mths', 'mths_since_last_delinq', 'open_acc', 'pub_rec','revol_bal', 'revol_util', 'total_acc', 'out_prncp_inv',\n",
    "            'total_rec_late_fee', 'mths_check', 'mths_remain', 'paid_potention']].copy()\n",
    "y = df_train['risk'].copy()"
   ]
  },
  {
   "cell_type": "code",
   "execution_count": 205,
   "metadata": {},
   "outputs": [
    {
     "name": "stdout",
     "output_type": "stream",
     "text": [
      "349400\n",
      "116467\n"
     ]
    }
   ],
   "source": [
    "from sklearn.model_selection import train_test_split\n",
    "\n",
    "X_train, X_test, y_train, y_test = train_test_split(X, y, test_size=0.25,\n",
    "                                                    random_state=42)\n",
    "print(len(X_train))\n",
    "print(len(X_test))"
   ]
  },
  {
   "attachments": {},
   "cell_type": "markdown",
   "metadata": {},
   "source": [
    "### SMOTE Imbalanced Data"
   ]
  },
  {
   "cell_type": "code",
   "execution_count": 206,
   "metadata": {},
   "outputs": [
    {
     "data": {
      "text/plain": [
       "0    313801\n",
       "1     35599\n",
       "Name: risk, dtype: int64"
      ]
     },
     "execution_count": 206,
     "metadata": {},
     "output_type": "execute_result"
    }
   ],
   "source": [
    "y_train.value_counts()"
   ]
  },
  {
   "cell_type": "code",
   "execution_count": 207,
   "metadata": {},
   "outputs": [
    {
     "data": {
      "text/plain": [
       "<Axes: xlabel='risk', ylabel='count'>"
      ]
     },
     "execution_count": 207,
     "metadata": {},
     "output_type": "execute_result"
    },
    {
     "data": {
      "image/png": "[encoded data removed]",
      "text/plain": [
       "<Figure size 640x480 with 1 Axes>"
      ]
     },
     "metadata": {},
     "output_type": "display_data"
    }
   ],
   "source": [
    "sns.countplot(x=y_train, data=y_train)"
   ]
  },
  {
   "cell_type": "code",
   "execution_count": 208,
   "metadata": {},
   "outputs": [],
   "source": [
    "from imblearn.over_sampling import SMOTE\n",
    "oversample = SMOTE()\n",
    "X_smote, y_smote = oversample.fit_resample(X_train, y_train)"
   ]
  },
  {
   "cell_type": "code",
   "execution_count": 209,
   "metadata": {},
   "outputs": [
    {
     "data": {
      "text/plain": [
       "0    313801\n",
       "1    313801\n",
       "Name: risk, dtype: int64"
      ]
     },
     "execution_count": 209,
     "metadata": {},
     "output_type": "execute_result"
    }
   ],
   "source": [
    "y_smote.value_counts()"
   ]
  },
  {
   "cell_type": "code",
   "execution_count": 210,
   "metadata": {},
   "outputs": [
    {
     "data": {
      "text/plain": [
       "<Axes: xlabel='risk', ylabel='count'>"
      ]
     },
     "execution_count": 210,
     "metadata": {},
     "output_type": "execute_result"
    },
    {
     "data": {
      "image/png": "[encoded data removed]",
      "text/plain": [
       "<Figure size 640x480 with 1 Axes>"
      ]
     },
     "metadata": {},
     "output_type": "display_data"
    }
   ],
   "source": [
    "sns.countplot(x=y_smote)"
   ]
  },
  {
   "attachments": {},
   "cell_type": "markdown",
   "metadata": {},
   "source": [
    "### Standarization"
   ]
  },
  {
   "cell_type": "code",
   "execution_count": 211,
   "metadata": {},
   "outputs": [
    {
     "data": {
      "text/html": [
       "<div>\n",
       "<style scoped>\n",
       "    .dataframe tbody tr th:only-of-type {\n",
       "        vertical-align: middle;\n",
       "    }\n",
       "\n",
       "    .dataframe tbody tr th {\n",
       "        vertical-align: top;\n",
       "    }\n",
       "\n",
       "    .dataframe thead th {\n",
       "        text-align: right;\n",
       "    }\n",
       "</style>\n",
       "<table border=\"1\" class=\"dataframe\">\n",
       "  <thead>\n",
       "    <tr style=\"text-align: right;\">\n",
       "      <th></th>\n",
       "      <th>loan_amnt</th>\n",
       "      <th>funded_amnt</th>\n",
       "      <th>int_rate</th>\n",
       "      <th>installment</th>\n",
       "      <th>grade</th>\n",
       "      <th>emp_length</th>\n",
       "      <th>home_ownership</th>\n",
       "      <th>dti</th>\n",
       "      <th>delinq_2yrs</th>\n",
       "      <th>inq_last_6mths</th>\n",
       "      <th>...</th>\n",
       "      <th>open_acc</th>\n",
       "      <th>pub_rec</th>\n",
       "      <th>revol_bal</th>\n",
       "      <th>revol_util</th>\n",
       "      <th>total_acc</th>\n",
       "      <th>out_prncp_inv</th>\n",
       "      <th>total_rec_late_fee</th>\n",
       "      <th>mths_check</th>\n",
       "      <th>mths_remain</th>\n",
       "      <th>paid_potention</th>\n",
       "    </tr>\n",
       "  </thead>\n",
       "  <tbody>\n",
       "    <tr>\n",
       "      <th>0</th>\n",
       "      <td>8400</td>\n",
       "      <td>8400</td>\n",
       "      <td>14.33</td>\n",
       "      <td>288.45</td>\n",
       "      <td>2</td>\n",
       "      <td>1</td>\n",
       "      <td>0</td>\n",
       "      <td>19.28</td>\n",
       "      <td>0.0</td>\n",
       "      <td>0.0</td>\n",
       "      <td>...</td>\n",
       "      <td>5.0</td>\n",
       "      <td>0.0</td>\n",
       "      <td>3739</td>\n",
       "      <td>85.0</td>\n",
       "      <td>15.0</td>\n",
       "      <td>0.00</td>\n",
       "      <td>0.0</td>\n",
       "      <td>11.0</td>\n",
       "      <td>15.0</td>\n",
       "      <td>55000.0</td>\n",
       "    </tr>\n",
       "    <tr>\n",
       "      <th>1</th>\n",
       "      <td>7200</td>\n",
       "      <td>7200</td>\n",
       "      <td>19.52</td>\n",
       "      <td>265.83</td>\n",
       "      <td>4</td>\n",
       "      <td>0</td>\n",
       "      <td>0</td>\n",
       "      <td>27.19</td>\n",
       "      <td>1.0</td>\n",
       "      <td>0.0</td>\n",
       "      <td>...</td>\n",
       "      <td>7.0</td>\n",
       "      <td>0.0</td>\n",
       "      <td>7387</td>\n",
       "      <td>48.0</td>\n",
       "      <td>8.0</td>\n",
       "      <td>4696.54</td>\n",
       "      <td>0.0</td>\n",
       "      <td>0.0</td>\n",
       "      <td>21.0</td>\n",
       "      <td>30303.0</td>\n",
       "    </tr>\n",
       "    <tr>\n",
       "      <th>2</th>\n",
       "      <td>17000</td>\n",
       "      <td>17000</td>\n",
       "      <td>7.69</td>\n",
       "      <td>530.30</td>\n",
       "      <td>0</td>\n",
       "      <td>5</td>\n",
       "      <td>0</td>\n",
       "      <td>16.38</td>\n",
       "      <td>0.0</td>\n",
       "      <td>0.0</td>\n",
       "      <td>...</td>\n",
       "      <td>7.0</td>\n",
       "      <td>0.0</td>\n",
       "      <td>13163</td>\n",
       "      <td>71.9</td>\n",
       "      <td>11.0</td>\n",
       "      <td>9924.35</td>\n",
       "      <td>0.0</td>\n",
       "      <td>0.0</td>\n",
       "      <td>19.0</td>\n",
       "      <td>66076.0</td>\n",
       "    </tr>\n",
       "    <tr>\n",
       "      <th>3</th>\n",
       "      <td>18825</td>\n",
       "      <td>18825</td>\n",
       "      <td>16.59</td>\n",
       "      <td>463.71</td>\n",
       "      <td>3</td>\n",
       "      <td>8</td>\n",
       "      <td>0</td>\n",
       "      <td>10.20</td>\n",
       "      <td>0.0</td>\n",
       "      <td>1.0</td>\n",
       "      <td>...</td>\n",
       "      <td>11.0</td>\n",
       "      <td>0.0</td>\n",
       "      <td>9880</td>\n",
       "      <td>14.4</td>\n",
       "      <td>27.0</td>\n",
       "      <td>0.00</td>\n",
       "      <td>0.0</td>\n",
       "      <td>14.0</td>\n",
       "      <td>52.0</td>\n",
       "      <td>182000.0</td>\n",
       "    </tr>\n",
       "    <tr>\n",
       "      <th>4</th>\n",
       "      <td>14000</td>\n",
       "      <td>14000</td>\n",
       "      <td>16.99</td>\n",
       "      <td>347.87</td>\n",
       "      <td>3</td>\n",
       "      <td>2</td>\n",
       "      <td>0</td>\n",
       "      <td>22.43</td>\n",
       "      <td>1.0</td>\n",
       "      <td>3.0</td>\n",
       "      <td>...</td>\n",
       "      <td>32.0</td>\n",
       "      <td>0.0</td>\n",
       "      <td>15388</td>\n",
       "      <td>47.3</td>\n",
       "      <td>63.0</td>\n",
       "      <td>0.00</td>\n",
       "      <td>0.0</td>\n",
       "      <td>12.0</td>\n",
       "      <td>49.0</td>\n",
       "      <td>326667.0</td>\n",
       "    </tr>\n",
       "  </tbody>\n",
       "</table>\n",
       "<p>5 rows × 21 columns</p>\n",
       "</div>"
      ],
      "text/plain": [
       "   loan_amnt  funded_amnt  int_rate  installment  grade  emp_length  \\\n",
       "0       8400         8400     14.33       288.45      2           1   \n",
       "1       7200         7200     19.52       265.83      4           0   \n",
       "2      17000        17000      7.69       530.30      0           5   \n",
       "3      18825        18825     16.59       463.71      3           8   \n",
       "4      14000        14000     16.99       347.87      3           2   \n",
       "\n",
       "   home_ownership    dti  delinq_2yrs  inq_last_6mths  ...  open_acc  pub_rec  \\\n",
       "0               0  19.28          0.0             0.0  ...       5.0      0.0   \n",
       "1               0  27.19          1.0             0.0  ...       7.0      0.0   \n",
       "2               0  16.38          0.0             0.0  ...       7.0      0.0   \n",
       "3               0  10.20          0.0             1.0  ...      11.0      0.0   \n",
       "4               0  22.43          1.0             3.0  ...      32.0      0.0   \n",
       "\n",
       "   revol_bal  revol_util  total_acc  out_prncp_inv  total_rec_late_fee  \\\n",
       "0       3739        85.0       15.0           0.00                 0.0   \n",
       "1       7387        48.0        8.0        4696.54                 0.0   \n",
       "2      13163        71.9       11.0        9924.35                 0.0   \n",
       "3       9880        14.4       27.0           0.00                 0.0   \n",
       "4      15388        47.3       63.0           0.00                 0.0   \n",
       "\n",
       "   mths_check  mths_remain  paid_potention  \n",
       "0        11.0         15.0         55000.0  \n",
       "1         0.0         21.0         30303.0  \n",
       "2         0.0         19.0         66076.0  \n",
       "3        14.0         52.0        182000.0  \n",
       "4        12.0         49.0        326667.0  \n",
       "\n",
       "[5 rows x 21 columns]"
      ]
     },
     "execution_count": 211,
     "metadata": {},
     "output_type": "execute_result"
    }
   ],
   "source": [
    "X_smote.head()"
   ]
  },
  {
   "cell_type": "code",
   "execution_count": 212,
   "metadata": {},
   "outputs": [],
   "source": [
    "from sklearn.preprocessing import StandardScaler\n",
    "\n",
    "scaler = StandardScaler()\n",
    "scaler.fit(X_smote[:])\n",
    "X_smote[:] = scaler.transform(X_smote[:])\n",
    "X_test[:] = scaler.transform(X_test[:])"
   ]
  },
  {
   "cell_type": "code",
   "execution_count": 213,
   "metadata": {},
   "outputs": [
    {
     "data": {
      "text/html": [
       "<div>\n",
       "<style scoped>\n",
       "    .dataframe tbody tr th:only-of-type {\n",
       "        vertical-align: middle;\n",
       "    }\n",
       "\n",
       "    .dataframe tbody tr th {\n",
       "        vertical-align: top;\n",
       "    }\n",
       "\n",
       "    .dataframe thead th {\n",
       "        text-align: right;\n",
       "    }\n",
       "</style>\n",
       "<table border=\"1\" class=\"dataframe\">\n",
       "  <thead>\n",
       "    <tr style=\"text-align: right;\">\n",
       "      <th></th>\n",
       "      <th>loan_amnt</th>\n",
       "      <th>funded_amnt</th>\n",
       "      <th>int_rate</th>\n",
       "      <th>installment</th>\n",
       "      <th>grade</th>\n",
       "      <th>emp_length</th>\n",
       "      <th>home_ownership</th>\n",
       "      <th>dti</th>\n",
       "      <th>delinq_2yrs</th>\n",
       "      <th>inq_last_6mths</th>\n",
       "      <th>...</th>\n",
       "      <th>open_acc</th>\n",
       "      <th>pub_rec</th>\n",
       "      <th>revol_bal</th>\n",
       "      <th>revol_util</th>\n",
       "      <th>total_acc</th>\n",
       "      <th>out_prncp_inv</th>\n",
       "      <th>total_rec_late_fee</th>\n",
       "      <th>mths_check</th>\n",
       "      <th>mths_remain</th>\n",
       "      <th>paid_potention</th>\n",
       "    </tr>\n",
       "  </thead>\n",
       "  <tbody>\n",
       "    <tr>\n",
       "      <th>0</th>\n",
       "      <td>-0.724038</td>\n",
       "      <td>-0.721936</td>\n",
       "      <td>-0.106582</td>\n",
       "      <td>-0.607585</td>\n",
       "      <td>0.065997</td>\n",
       "      <td>-1.264822</td>\n",
       "      <td>-0.237783</td>\n",
       "      <td>0.218940</td>\n",
       "      <td>-0.382655</td>\n",
       "      <td>-0.842097</td>\n",
       "      <td>...</td>\n",
       "      <td>-1.322078</td>\n",
       "      <td>-0.339622</td>\n",
       "      <td>-0.615488</td>\n",
       "      <td>1.231937</td>\n",
       "      <td>-0.89208</td>\n",
       "      <td>-0.511422</td>\n",
       "      <td>-0.215763</td>\n",
       "      <td>0.418289</td>\n",
       "      <td>-0.764503</td>\n",
       "      <td>-0.659238</td>\n",
       "    </tr>\n",
       "    <tr>\n",
       "      <th>1</th>\n",
       "      <td>-0.868718</td>\n",
       "      <td>-0.866858</td>\n",
       "      <td>1.135539</td>\n",
       "      <td>-0.700868</td>\n",
       "      <td>1.670353</td>\n",
       "      <td>-1.550040</td>\n",
       "      <td>-0.237783</td>\n",
       "      <td>1.297677</td>\n",
       "      <td>0.987374</td>\n",
       "      <td>-0.842097</td>\n",
       "      <td>...</td>\n",
       "      <td>-0.890693</td>\n",
       "      <td>-0.339622</td>\n",
       "      <td>-0.427433</td>\n",
       "      <td>-0.436417</td>\n",
       "      <td>-1.53832</td>\n",
       "      <td>0.332138</td>\n",
       "      <td>-0.215763</td>\n",
       "      <td>-0.678925</td>\n",
       "      <td>-0.346300</td>\n",
       "      <td>-0.829200</td>\n",
       "    </tr>\n",
       "    <tr>\n",
       "      <th>2</th>\n",
       "      <td>0.312835</td>\n",
       "      <td>0.316667</td>\n",
       "      <td>-1.695731</td>\n",
       "      <td>0.389778</td>\n",
       "      <td>-1.538360</td>\n",
       "      <td>-0.123952</td>\n",
       "      <td>-0.237783</td>\n",
       "      <td>-0.176551</td>\n",
       "      <td>-0.382655</td>\n",
       "      <td>-0.842097</td>\n",
       "      <td>...</td>\n",
       "      <td>-0.890693</td>\n",
       "      <td>-0.339622</td>\n",
       "      <td>-0.129679</td>\n",
       "      <td>0.641249</td>\n",
       "      <td>-1.26136</td>\n",
       "      <td>1.271121</td>\n",
       "      <td>-0.215763</td>\n",
       "      <td>-0.678925</td>\n",
       "      <td>-0.485701</td>\n",
       "      <td>-0.583014</td>\n",
       "    </tr>\n",
       "    <tr>\n",
       "      <th>3</th>\n",
       "      <td>0.532869</td>\n",
       "      <td>0.537068</td>\n",
       "      <td>0.434303</td>\n",
       "      <td>0.115168</td>\n",
       "      <td>0.868175</td>\n",
       "      <td>0.731701</td>\n",
       "      <td>-0.237783</td>\n",
       "      <td>-1.019357</td>\n",
       "      <td>-0.382655</td>\n",
       "      <td>0.084523</td>\n",
       "      <td>...</td>\n",
       "      <td>-0.027924</td>\n",
       "      <td>-0.339622</td>\n",
       "      <td>-0.298918</td>\n",
       "      <td>-1.951462</td>\n",
       "      <td>0.21576</td>\n",
       "      <td>-0.511422</td>\n",
       "      <td>-0.215763</td>\n",
       "      <td>0.717529</td>\n",
       "      <td>1.814419</td>\n",
       "      <td>0.214762</td>\n",
       "    </tr>\n",
       "    <tr>\n",
       "      <th>4</th>\n",
       "      <td>-0.048865</td>\n",
       "      <td>-0.045636</td>\n",
       "      <td>0.530035</td>\n",
       "      <td>-0.362544</td>\n",
       "      <td>0.868175</td>\n",
       "      <td>-0.979605</td>\n",
       "      <td>-0.237783</td>\n",
       "      <td>0.648526</td>\n",
       "      <td>0.987374</td>\n",
       "      <td>1.937763</td>\n",
       "      <td>...</td>\n",
       "      <td>4.501614</td>\n",
       "      <td>-0.339622</td>\n",
       "      <td>-0.014980</td>\n",
       "      <td>-0.467980</td>\n",
       "      <td>3.53928</td>\n",
       "      <td>-0.511422</td>\n",
       "      <td>-0.215763</td>\n",
       "      <td>0.518036</td>\n",
       "      <td>1.605317</td>\n",
       "      <td>1.210344</td>\n",
       "    </tr>\n",
       "  </tbody>\n",
       "</table>\n",
       "<p>5 rows × 21 columns</p>\n",
       "</div>"
      ],
      "text/plain": [
       "   loan_amnt  funded_amnt  int_rate  installment     grade  emp_length  \\\n",
       "0  -0.724038    -0.721936 -0.106582    -0.607585  0.065997   -1.264822   \n",
       "1  -0.868718    -0.866858  1.135539    -0.700868  1.670353   -1.550040   \n",
       "2   0.312835     0.316667 -1.695731     0.389778 -1.538360   -0.123952   \n",
       "3   0.532869     0.537068  0.434303     0.115168  0.868175    0.731701   \n",
       "4  -0.048865    -0.045636  0.530035    -0.362544  0.868175   -0.979605   \n",
       "\n",
       "   home_ownership       dti  delinq_2yrs  inq_last_6mths  ...  open_acc  \\\n",
       "0       -0.237783  0.218940    -0.382655       -0.842097  ... -1.322078   \n",
       "1       -0.237783  1.297677     0.987374       -0.842097  ... -0.890693   \n",
       "2       -0.237783 -0.176551    -0.382655       -0.842097  ... -0.890693   \n",
       "3       -0.237783 -1.019357    -0.382655        0.084523  ... -0.027924   \n",
       "4       -0.237783  0.648526     0.987374        1.937763  ...  4.501614   \n",
       "\n",
       "    pub_rec  revol_bal  revol_util  total_acc  out_prncp_inv  \\\n",
       "0 -0.339622  -0.615488    1.231937   -0.89208      -0.511422   \n",
       "1 -0.339622  -0.427433   -0.436417   -1.53832       0.332138   \n",
       "2 -0.339622  -0.129679    0.641249   -1.26136       1.271121   \n",
       "3 -0.339622  -0.298918   -1.951462    0.21576      -0.511422   \n",
       "4 -0.339622  -0.014980   -0.467980    3.53928      -0.511422   \n",
       "\n",
       "   total_rec_late_fee  mths_check  mths_remain  paid_potention  \n",
       "0           -0.215763    0.418289    -0.764503       -0.659238  \n",
       "1           -0.215763   -0.678925    -0.346300       -0.829200  \n",
       "2           -0.215763   -0.678925    -0.485701       -0.583014  \n",
       "3           -0.215763    0.717529     1.814419        0.214762  \n",
       "4           -0.215763    0.518036     1.605317        1.210344  \n",
       "\n",
       "[5 rows x 21 columns]"
      ]
     },
     "execution_count": 213,
     "metadata": {},
     "output_type": "execute_result"
    }
   ],
   "source": [
    "X_smote.head()"
   ]
  },
  {
   "attachments": {},
   "cell_type": "markdown",
   "metadata": {},
   "source": [
    "# Modelling"
   ]
  },
  {
   "attachments": {},
   "cell_type": "markdown",
   "metadata": {},
   "source": [
    "## Random Forest"
   ]
  },
  {
   "cell_type": "code",
   "execution_count": 214,
   "metadata": {},
   "outputs": [
    {
     "name": "stdout",
     "output_type": "stream",
     "text": [
      "              precision    recall  f1-score   support\n",
      "\n",
      "           0       0.96      0.96      0.96    104476\n",
      "           1       0.67      0.65      0.66     11991\n",
      "\n",
      "    accuracy                           0.93    116467\n",
      "   macro avg       0.82      0.81      0.81    116467\n",
      "weighted avg       0.93      0.93      0.93    116467\n",
      "\n"
     ]
    }
   ],
   "source": [
    "from sklearn.ensemble import RandomForestClassifier\n",
    "from sklearn.metrics import classification_report\n",
    "\n",
    "rf = RandomForestClassifier()\n",
    "rf.fit(X_smote, y_smote)\n",
    "y_pred_rf = rf.predict(X_test)\n",
    "print(classification_report(y_test, y_pred_rf))"
   ]
  },
  {
   "attachments": {},
   "cell_type": "markdown",
   "metadata": {},
   "source": [
    "##  Logistic"
   ]
  },
  {
   "cell_type": "code",
   "execution_count": 215,
   "metadata": {},
   "outputs": [
    {
     "name": "stdout",
     "output_type": "stream",
     "text": [
      "              precision    recall  f1-score   support\n",
      "\n",
      "           0       0.95      0.81      0.88    104476\n",
      "           1       0.29      0.65      0.40     11991\n",
      "\n",
      "    accuracy                           0.80    116467\n",
      "   macro avg       0.62      0.73      0.64    116467\n",
      "weighted avg       0.88      0.80      0.83    116467\n",
      "\n"
     ]
    }
   ],
   "source": [
    "from sklearn.linear_model import LogisticRegression\n",
    "\n",
    "log = LogisticRegression()\n",
    "log.fit(X_smote, y_smote)\n",
    "y_pred_log = log.predict(X_test)\n",
    "print(classification_report(y_test, y_pred_log))"
   ]
  },
  {
   "attachments": {},
   "cell_type": "markdown",
   "metadata": {},
   "source": [
    "## KNN"
   ]
  },
  {
   "cell_type": "code",
   "execution_count": 216,
   "metadata": {},
   "outputs": [
    {
     "name": "stdout",
     "output_type": "stream",
     "text": [
      "              precision    recall  f1-score   support\n",
      "\n",
      "           0       0.95      0.80      0.87    104476\n",
      "           1       0.27      0.65      0.38     11991\n",
      "\n",
      "    accuracy                           0.79    116467\n",
      "   macro avg       0.61      0.72      0.63    116467\n",
      "weighted avg       0.88      0.79      0.82    116467\n",
      "\n"
     ]
    }
   ],
   "source": [
    "from sklearn.neighbors import KNeighborsClassifier\n",
    "\n",
    "knn = KNeighborsClassifier()\n",
    "knn.fit(X_smote, y_smote)\n",
    "y_pred_knn = knn.predict(X_test)\n",
    "print(classification_report(y_test, y_pred_knn))"
   ]
  },
  {
   "attachments": {},
   "cell_type": "markdown",
   "metadata": {},
   "source": [
    "## XGBoost"
   ]
  },
  {
   "cell_type": "code",
   "execution_count": 217,
   "metadata": {},
   "outputs": [
    {
     "name": "stdout",
     "output_type": "stream",
     "text": [
      "              precision    recall  f1-score   support\n",
      "\n",
      "           0       0.95      0.98      0.97    104476\n",
      "           1       0.77      0.60      0.67     11991\n",
      "\n",
      "    accuracy                           0.94    116467\n",
      "   macro avg       0.86      0.79      0.82    116467\n",
      "weighted avg       0.94      0.94      0.94    116467\n",
      "\n"
     ]
    }
   ],
   "source": [
    "from xgboost import XGBClassifier\n",
    "\n",
    "xgb = XGBClassifier()\n",
    "xgb.fit(X_smote, y_smote)\n",
    "y_pred_xgb = xgb.predict(X_test)\n",
    "print(classification_report(y_test, y_pred_xgb))"
   ]
  },
  {
   "attachments": {},
   "cell_type": "markdown",
   "metadata": {},
   "source": [
    "# Feature Importance 2"
   ]
  },
  {
   "cell_type": "code",
   "execution_count": 218,
   "metadata": {},
   "outputs": [
    {
     "data": {
      "text/html": [
       "<div>\n",
       "<style scoped>\n",
       "    .dataframe tbody tr th:only-of-type {\n",
       "        vertical-align: middle;\n",
       "    }\n",
       "\n",
       "    .dataframe tbody tr th {\n",
       "        vertical-align: top;\n",
       "    }\n",
       "\n",
       "    .dataframe thead th {\n",
       "        text-align: right;\n",
       "    }\n",
       "</style>\n",
       "<table border=\"1\" class=\"dataframe\">\n",
       "  <thead>\n",
       "    <tr style=\"text-align: right;\">\n",
       "      <th></th>\n",
       "      <th>feature</th>\n",
       "      <th>importance</th>\n",
       "    </tr>\n",
       "  </thead>\n",
       "  <tbody>\n",
       "    <tr>\n",
       "      <th>18</th>\n",
       "      <td>mths_check</td>\n",
       "      <td>0.421653</td>\n",
       "    </tr>\n",
       "    <tr>\n",
       "      <th>16</th>\n",
       "      <td>out_prncp_inv</td>\n",
       "      <td>0.093005</td>\n",
       "    </tr>\n",
       "    <tr>\n",
       "      <th>9</th>\n",
       "      <td>inq_last_6mths</td>\n",
       "      <td>0.079273</td>\n",
       "    </tr>\n",
       "    <tr>\n",
       "      <th>19</th>\n",
       "      <td>mths_remain</td>\n",
       "      <td>0.074140</td>\n",
       "    </tr>\n",
       "    <tr>\n",
       "      <th>2</th>\n",
       "      <td>int_rate</td>\n",
       "      <td>0.052306</td>\n",
       "    </tr>\n",
       "    <tr>\n",
       "      <th>20</th>\n",
       "      <td>paid_potention</td>\n",
       "      <td>0.036929</td>\n",
       "    </tr>\n",
       "    <tr>\n",
       "      <th>17</th>\n",
       "      <td>total_rec_late_fee</td>\n",
       "      <td>0.028965</td>\n",
       "    </tr>\n",
       "    <tr>\n",
       "      <th>5</th>\n",
       "      <td>emp_length</td>\n",
       "      <td>0.026026</td>\n",
       "    </tr>\n",
       "    <tr>\n",
       "      <th>10</th>\n",
       "      <td>mths_since_last_delinq</td>\n",
       "      <td>0.022457</td>\n",
       "    </tr>\n",
       "    <tr>\n",
       "      <th>7</th>\n",
       "      <td>dti</td>\n",
       "      <td>0.018162</td>\n",
       "    </tr>\n",
       "    <tr>\n",
       "      <th>12</th>\n",
       "      <td>pub_rec</td>\n",
       "      <td>0.017053</td>\n",
       "    </tr>\n",
       "    <tr>\n",
       "      <th>14</th>\n",
       "      <td>revol_util</td>\n",
       "      <td>0.016389</td>\n",
       "    </tr>\n",
       "    <tr>\n",
       "      <th>13</th>\n",
       "      <td>revol_bal</td>\n",
       "      <td>0.015543</td>\n",
       "    </tr>\n",
       "    <tr>\n",
       "      <th>8</th>\n",
       "      <td>delinq_2yrs</td>\n",
       "      <td>0.015351</td>\n",
       "    </tr>\n",
       "    <tr>\n",
       "      <th>15</th>\n",
       "      <td>total_acc</td>\n",
       "      <td>0.015166</td>\n",
       "    </tr>\n",
       "    <tr>\n",
       "      <th>11</th>\n",
       "      <td>open_acc</td>\n",
       "      <td>0.014778</td>\n",
       "    </tr>\n",
       "    <tr>\n",
       "      <th>3</th>\n",
       "      <td>installment</td>\n",
       "      <td>0.013735</td>\n",
       "    </tr>\n",
       "    <tr>\n",
       "      <th>1</th>\n",
       "      <td>funded_amnt</td>\n",
       "      <td>0.012283</td>\n",
       "    </tr>\n",
       "    <tr>\n",
       "      <th>0</th>\n",
       "      <td>loan_amnt</td>\n",
       "      <td>0.012075</td>\n",
       "    </tr>\n",
       "    <tr>\n",
       "      <th>4</th>\n",
       "      <td>grade</td>\n",
       "      <td>0.009716</td>\n",
       "    </tr>\n",
       "    <tr>\n",
       "      <th>6</th>\n",
       "      <td>home_ownership</td>\n",
       "      <td>0.004994</td>\n",
       "    </tr>\n",
       "  </tbody>\n",
       "</table>\n",
       "</div>"
      ],
      "text/plain": [
       "                   feature  importance\n",
       "18              mths_check    0.421653\n",
       "16           out_prncp_inv    0.093005\n",
       "9           inq_last_6mths    0.079273\n",
       "19             mths_remain    0.074140\n",
       "2                 int_rate    0.052306\n",
       "20          paid_potention    0.036929\n",
       "17      total_rec_late_fee    0.028965\n",
       "5               emp_length    0.026026\n",
       "10  mths_since_last_delinq    0.022457\n",
       "7                      dti    0.018162\n",
       "12                 pub_rec    0.017053\n",
       "14              revol_util    0.016389\n",
       "13               revol_bal    0.015543\n",
       "8              delinq_2yrs    0.015351\n",
       "15               total_acc    0.015166\n",
       "11                open_acc    0.014778\n",
       "3              installment    0.013735\n",
       "1              funded_amnt    0.012283\n",
       "0                loan_amnt    0.012075\n",
       "4                    grade    0.009716\n",
       "6           home_ownership    0.004994"
      ]
     },
     "execution_count": 218,
     "metadata": {},
     "output_type": "execute_result"
    }
   ],
   "source": [
    "feature_importances = rf.feature_importances_\n",
    "feature_names = X_train.columns.values\n",
    "    \n",
    "df_feature_importance = pd.DataFrame(index=range(len(feature_importances)), columns=['feature', 'importance'])\n",
    "df_feature_importance['feature'] = feature_names\n",
    "df_feature_importance['importance'] = feature_importances\n",
    "df_all_features = df_feature_importance.sort_values(by='importance', ascending=False)\n",
    "df_all_features"
   ]
  },
  {
   "cell_type": "code",
   "execution_count": 219,
   "metadata": {},
   "outputs": [
    {
     "data": {
      "text/plain": [
       "Text(0.5, 0, 'Feature Importance')"
      ]
     },
     "execution_count": 219,
     "metadata": {},
     "output_type": "execute_result"
    },
    {
     "data": {
      "image/png": "[encoded data removed]",
      "text/plain": [
       "<Figure size 640x480 with 1 Axes>"
      ]
     },
     "metadata": {},
     "output_type": "display_data"
    }
   ],
   "source": [
    "sort = rf.feature_importances_.argsort()\n",
    "plt.barh(df_feature_importance['feature'][sort], df_feature_importance['importance'][sort])\n",
    "plt.xlabel(\"Feature Importance\")"
   ]
  },
  {
   "cell_type": "code",
   "execution_count": 238,
   "metadata": {},
   "outputs": [],
   "source": [
    "from sklearn.preprocessing import MinMaxScaler()\n",
    "\n",
    "Xnew = df_train[['mths_check', 'out_prncp_inv', 'inq_last_6mths', 'mths_remain', 'int_rate', 'paid_potention',  'emp_length',\n",
    "                'total_rec_late_fee', 'mths_since_last_delinq']].copy()\n",
    "ynew = df_train['risk'].copy()\n",
    "\n",
    "Xnew_train, Xnew_test, ynew_train, ynew_test = train_test_split(Xnew, ynew, test_size=0.25,\n",
    "                                                    random_state=42)\n",
    "\n",
    "Xnew_smote, ynew_smote = oversample.fit_resample(Xnew_train, ynew_train)\n",
    "\n",
    "scaler_new = MinMaxScaler()\n",
    "scaler_new.fit(Xnew_smote[:])\n",
    "Xnew_smote[:] = scaler_new.transform(Xnew_smote[:])\n",
    "Xnew_test[:] = scaler_new.transform(Xnew_test[:])"
   ]
  },
  {
   "cell_type": "code",
   "execution_count": 250,
   "metadata": {},
   "outputs": [
    {
     "data": {
      "text/plain": [
       "0"
      ]
     },
     "execution_count": 250,
     "metadata": {},
     "output_type": "execute_result"
    }
   ],
   "source": [
    "ynew.loc[1000]"
   ]
  },
  {
   "cell_type": "code",
   "execution_count": 251,
   "metadata": {},
   "outputs": [
    {
     "data": {
      "text/plain": [
       "mths_check                    1.00\n",
       "out_prncp_inv                 0.00\n",
       "inq_last_6mths                1.00\n",
       "mths_remain                  18.00\n",
       "int_rate                     14.27\n",
       "paid_potention            36000.00\n",
       "emp_length                    5.00\n",
       "total_rec_late_fee            0.00\n",
       "mths_since_last_delinq        0.00\n",
       "Name: 1001, dtype: float64"
      ]
     },
     "execution_count": 251,
     "metadata": {},
     "output_type": "execute_result"
    }
   ],
   "source": [
    "Xnew.iloc[1000]"
   ]
  },
  {
   "cell_type": "code",
   "execution_count": 241,
   "metadata": {},
   "outputs": [
    {
     "data": {
      "text/plain": [
       "mths_check                0.771695\n",
       "out_prncp_inv            -0.512450\n",
       "inq_last_6mths            0.095390\n",
       "mths_remain               1.801102\n",
       "int_rate                  0.431994\n",
       "paid_potention            0.214399\n",
       "emp_length                0.720344\n",
       "total_rec_late_fee       -0.192876\n",
       "mths_since_last_delinq   -0.701875\n",
       "Name: 3, dtype: float64"
      ]
     },
     "execution_count": 241,
     "metadata": {},
     "output_type": "execute_result"
    }
   ],
   "source": [
    "Xnew_smote.iloc[3]"
   ]
  },
  {
   "cell_type": "code",
   "execution_count": 223,
   "metadata": {},
   "outputs": [
    {
     "data": {
      "text/plain": [
       "0"
      ]
     },
     "execution_count": 223,
     "metadata": {},
     "output_type": "execute_result"
    }
   ],
   "source": [
    "ynew.iloc[4]"
   ]
  },
  {
   "attachments": {},
   "cell_type": "markdown",
   "metadata": {},
   "source": [
    "# Hyperparameter Tuning"
   ]
  },
  {
   "cell_type": "code",
   "execution_count": 224,
   "metadata": {},
   "outputs": [],
   "source": [
    "from sklearn.model_selection import RandomizedSearchCV"
   ]
  },
  {
   "cell_type": "code",
   "execution_count": 225,
   "metadata": {},
   "outputs": [],
   "source": [
    "# Number of trees in random forest\n",
    "n_estimators = [int(x) for x in np.linspace(start = 200, stop = 1000, num = 10)]\n",
    "# Number of features to consider at every split\n",
    "max_features = ['auto', 'sqrt']\n",
    "# Maximum number of levels in tree\n",
    "max_depth = [int(x) for x in np.linspace(10, 110, num = 11)]\n",
    "#max_depth.append(None)\n",
    "# Minimum number of samples required to split a node\n",
    "min_samples_split = [2, 5, 10]\n",
    "# Minimum number of samples required at each leaf node\n",
    "min_samples_leaf = [1, 2, 4]\n",
    "# Method of selecting samples for training each tree\n",
    "bootstrap = [True, False]\n",
    "# Create the random grid\n",
    "random_grid = {'n_estimators': n_estimators,\n",
    "               'max_features': max_features,\n",
    "               'max_depth': max_depth,\n",
    "               'min_samples_split': min_samples_split,\n",
    "               'min_samples_leaf': min_samples_leaf,\n",
    "               'bootstrap': bootstrap}"
   ]
  },
  {
   "cell_type": "code",
   "execution_count": 226,
   "metadata": {},
   "outputs": [],
   "source": [
    "# # Use the random grid to search for best hyperparameters\n",
    "# # First create the base model to tune\n",
    "# rf = RandomForestClassifier()\n",
    "# # Random search of parameters, using 3 fold cross validation, \n",
    "# # search across 100 different combinations, and use all available cores\n",
    "# rf_random = RandomizedSearchCV(estimator = rf, param_distributions = random_grid, n_iter = 15, cv = 3, verbose=2, random_state=42, n_jobs = -1)\n",
    "# # Fit the random search model\n",
    "# rf_random.fit(Xnew_smote, ynew_smote)"
   ]
  },
  {
   "attachments": {},
   "cell_type": "markdown",
   "metadata": {},
   "source": [
    "# ReModelling"
   ]
  },
  {
   "cell_type": "code",
   "execution_count": 227,
   "metadata": {},
   "outputs": [
    {
     "name": "stdout",
     "output_type": "stream",
     "text": [
      "              precision    recall  f1-score   support\n",
      "\n",
      "           0       0.98      0.88      0.93    104476\n",
      "           1       0.45      0.86      0.59     11991\n",
      "\n",
      "    accuracy                           0.88    116467\n",
      "   macro avg       0.71      0.87      0.76    116467\n",
      "weighted avg       0.93      0.88      0.89    116467\n",
      "\n"
     ]
    }
   ],
   "source": [
    "rf_new = RandomForestClassifier(n_estimators=400, max_depth=10,min_samples_leaf=1,max_features='sqrt',\n",
    "                             min_samples_split=5, criterion='gini')\n",
    "rf_new.fit(Xnew_smote, ynew_smote)\n",
    "y_pred_rf_new = rf_new.predict(Xnew_test)\n",
    "print(classification_report(ynew_test, y_pred_rf_new))\n"
   ]
  },
  {
   "attachments": {},
   "cell_type": "markdown",
   "metadata": {},
   "source": [
    "# Evaluation"
   ]
  },
  {
   "attachments": {},
   "cell_type": "markdown",
   "metadata": {},
   "source": [
    "## Confusion Matrix"
   ]
  },
  {
   "cell_type": "code",
   "execution_count": 228,
   "metadata": {},
   "outputs": [],
   "source": [
    "from sklearn.metrics import confusion_matrix"
   ]
  },
  {
   "cell_type": "code",
   "execution_count": 229,
   "metadata": {},
   "outputs": [
    {
     "data": {
      "image/png": "[encoded data removed]",
      "text/plain": [
       "<Figure size 400x300 with 2 Axes>"
      ]
     },
     "metadata": {},
     "output_type": "display_data"
    }
   ],
   "source": [
    "plt.figure(figsize=(4,3))\n",
    "sns.heatmap(confusion_matrix(y_test, y_pred_rf),\n",
    "                annot=True,fmt = \"d\",linecolor=\"k\",linewidths=3)\n",
    "    \n",
    "plt.title(\"RF Confusion Matrix\",fontsize=12)\n",
    "plt.ylabel('True label',fontdict={'size':'16'})\n",
    "plt.xlabel('Predicted label',fontdict={'size':'16'})\n",
    "plt.show()"
   ]
  },
  {
   "cell_type": "code",
   "execution_count": 230,
   "metadata": {},
   "outputs": [
    {
     "data": {
      "image/png": "[encoded data removed]",
      "text/plain": [
       "<Figure size 400x300 with 2 Axes>"
      ]
     },
     "metadata": {},
     "output_type": "display_data"
    }
   ],
   "source": [
    "plt.figure(figsize=(4,3))\n",
    "sns.heatmap(confusion_matrix(ynew_test, y_pred_rf_new),\n",
    "                annot=True,fmt = \"d\",linecolor=\"k\",linewidths=3)\n",
    "    \n",
    "plt.title(\"RF_new Confusion Matrix\",fontsize=12)\n",
    "plt.ylabel('True label',fontdict={'size':'16'})\n",
    "plt.xlabel('Predicted label',fontdict={'size':'16'})\n",
    "plt.show()"
   ]
  },
  {
   "attachments": {},
   "cell_type": "markdown",
   "metadata": {},
   "source": [
    "## AUC"
   ]
  },
  {
   "cell_type": "code",
   "execution_count": 231,
   "metadata": {},
   "outputs": [
    {
     "data": {
      "image/png": "[encoded data removed]",
      "text/plain": [
       "<Figure size 1200x700 with 1 Axes>"
      ]
     },
     "metadata": {},
     "output_type": "display_data"
    }
   ],
   "source": [
    "from sklearn.metrics import roc_curve, roc_auc_score\n",
    "\n",
    "y_test_int = y_test\n",
    "y_test_int_new = ynew_test\n",
    "\n",
    "auc_lr = roc_auc_score(y_test_int, y_pred_log)\n",
    "fpr_lr, tpr_lr, thresholds_lr = roc_curve(y_test_int, y_pred_log)\n",
    "\n",
    "auc_knn = roc_auc_score(y_test_int, y_pred_knn)\n",
    "fpr_knn, tpr_knn, thresholds_knn = roc_curve(y_test_int, y_pred_knn)\n",
    "\n",
    "auc_rf = roc_auc_score(y_test_int, y_pred_rf)\n",
    "fpr_rf, tpr_rf, thresholds_rf = roc_curve(y_test_int, y_pred_rf)\n",
    "\n",
    "auc_rf_new = roc_auc_score(y_test_int_new, y_pred_rf_new)\n",
    "fpr_rf_new, tpr_rf_new, thresholds_rf_new = roc_curve(y_test_int_new, y_pred_rf_new)\n",
    "\n",
    "auc_xg = roc_auc_score(y_test_int, y_pred_xgb)\n",
    "fpr_xg, tpr_xg, thresholds_xg = roc_curve(y_test_int, y_pred_xgb)\n",
    "\n",
    "plt.figure(figsize=(12, 7))\n",
    "plt.plot(fpr_lr, tpr_lr, label=f'AUC (Logistic Regression) = {auc_lr:.2f}')\n",
    "plt.plot(fpr_knn, tpr_knn, label=f'AUC (KNN) = {auc_knn:.2f}')\n",
    "plt.plot(fpr_xg, tpr_xg, label=f'AUC (XGBoost) = {auc_xg:.2f}')\n",
    "plt.plot(fpr_rf, tpr_rf, label=f'AUC (Random Forests) = {auc_rf:.2f}')\n",
    "plt.plot(fpr_rf_new, tpr_rf_new, label=f'AUC (Random Forests New) = {auc_rf_new:.2f}')\n",
    "plt.plot([0, 1], [0, 1], color='blue', linestyle='--', label='Baseline')\n",
    "plt.title('ROC Curve', size=20)\n",
    "plt.xlabel('False Positive Rate', size=14)\n",
    "plt.ylabel('True Positive Rate', size=14)\n",
    "plt.legend();"
   ]
  },
  {
   "attachments": {},
   "cell_type": "markdown",
   "metadata": {},
   "source": [
    "## KS"
   ]
  },
  {
   "cell_type": "code",
   "execution_count": 232,
   "metadata": {},
   "outputs": [],
   "source": [
    "y_pred_proba = rf_new.predict_proba(Xnew_test)[:][:,1]\n",
    "\n",
    "df_actual_predicted = pd.concat([pd.DataFrame(np.array(ynew_test), columns=['y_actual']), pd.DataFrame(y_pred_proba, columns=['y_pred_proba'])], axis=1)\n",
    "df_actual_predicted.index = ynew_test.index\n",
    "\n",
    "df_actual_predicted = df_actual_predicted.sort_values('y_pred_proba')\n",
    "df_actual_predicted = df_actual_predicted.reset_index()\n",
    "\n",
    "df_actual_predicted['Cumulative N Population'] = df_actual_predicted.index + 1\n",
    "df_actual_predicted['Cumulative N Bad'] = df_actual_predicted['y_actual'].cumsum()\n",
    "df_actual_predicted['Cumulative N Good'] = df_actual_predicted['Cumulative N Population'] - df_actual_predicted['Cumulative N Bad']\n",
    "df_actual_predicted['Cumulative Perc Population'] = df_actual_predicted['Cumulative N Population'] / df_actual_predicted.shape[0]\n",
    "df_actual_predicted['Cumulative Perc Bad'] = df_actual_predicted['Cumulative N Bad'] / df_actual_predicted['y_actual'].sum()\n",
    "df_actual_predicted['Cumulative Perc Good'] = df_actual_predicted['Cumulative N Good'] / (df_actual_predicted.shape[0] - df_actual_predicted['y_actual'].sum())"
   ]
  },
  {
   "cell_type": "code",
   "execution_count": 233,
   "metadata": {},
   "outputs": [
    {
     "data": {
      "text/html": [
       "<div>\n",
       "<style scoped>\n",
       "    .dataframe tbody tr th:only-of-type {\n",
       "        vertical-align: middle;\n",
       "    }\n",
       "\n",
       "    .dataframe tbody tr th {\n",
       "        vertical-align: top;\n",
       "    }\n",
       "\n",
       "    .dataframe thead th {\n",
       "        text-align: right;\n",
       "    }\n",
       "</style>\n",
       "<table border=\"1\" class=\"dataframe\">\n",
       "  <thead>\n",
       "    <tr style=\"text-align: right;\">\n",
       "      <th></th>\n",
       "      <th>index</th>\n",
       "      <th>y_actual</th>\n",
       "      <th>y_pred_proba</th>\n",
       "      <th>Cumulative N Population</th>\n",
       "      <th>Cumulative N Bad</th>\n",
       "      <th>Cumulative N Good</th>\n",
       "      <th>Cumulative Perc Population</th>\n",
       "      <th>Cumulative Perc Bad</th>\n",
       "      <th>Cumulative Perc Good</th>\n",
       "    </tr>\n",
       "  </thead>\n",
       "  <tbody>\n",
       "    <tr>\n",
       "      <th>0</th>\n",
       "      <td>412245</td>\n",
       "      <td>0</td>\n",
       "      <td>0.000105</td>\n",
       "      <td>1</td>\n",
       "      <td>0</td>\n",
       "      <td>1</td>\n",
       "      <td>0.000009</td>\n",
       "      <td>0.0</td>\n",
       "      <td>0.000010</td>\n",
       "    </tr>\n",
       "    <tr>\n",
       "      <th>1</th>\n",
       "      <td>414578</td>\n",
       "      <td>0</td>\n",
       "      <td>0.000107</td>\n",
       "      <td>2</td>\n",
       "      <td>0</td>\n",
       "      <td>2</td>\n",
       "      <td>0.000017</td>\n",
       "      <td>0.0</td>\n",
       "      <td>0.000019</td>\n",
       "    </tr>\n",
       "    <tr>\n",
       "      <th>2</th>\n",
       "      <td>259855</td>\n",
       "      <td>0</td>\n",
       "      <td>0.000112</td>\n",
       "      <td>3</td>\n",
       "      <td>0</td>\n",
       "      <td>3</td>\n",
       "      <td>0.000026</td>\n",
       "      <td>0.0</td>\n",
       "      <td>0.000029</td>\n",
       "    </tr>\n",
       "    <tr>\n",
       "      <th>3</th>\n",
       "      <td>251900</td>\n",
       "      <td>0</td>\n",
       "      <td>0.000112</td>\n",
       "      <td>4</td>\n",
       "      <td>0</td>\n",
       "      <td>4</td>\n",
       "      <td>0.000034</td>\n",
       "      <td>0.0</td>\n",
       "      <td>0.000038</td>\n",
       "    </tr>\n",
       "    <tr>\n",
       "      <th>4</th>\n",
       "      <td>243273</td>\n",
       "      <td>0</td>\n",
       "      <td>0.000115</td>\n",
       "      <td>5</td>\n",
       "      <td>0</td>\n",
       "      <td>5</td>\n",
       "      <td>0.000043</td>\n",
       "      <td>0.0</td>\n",
       "      <td>0.000048</td>\n",
       "    </tr>\n",
       "  </tbody>\n",
       "</table>\n",
       "</div>"
      ],
      "text/plain": [
       "    index  y_actual  y_pred_proba  Cumulative N Population  Cumulative N Bad  \\\n",
       "0  412245         0      0.000105                        1                 0   \n",
       "1  414578         0      0.000107                        2                 0   \n",
       "2  259855         0      0.000112                        3                 0   \n",
       "3  251900         0      0.000112                        4                 0   \n",
       "4  243273         0      0.000115                        5                 0   \n",
       "\n",
       "   Cumulative N Good  Cumulative Perc Population  Cumulative Perc Bad  \\\n",
       "0                  1                    0.000009                  0.0   \n",
       "1                  2                    0.000017                  0.0   \n",
       "2                  3                    0.000026                  0.0   \n",
       "3                  4                    0.000034                  0.0   \n",
       "4                  5                    0.000043                  0.0   \n",
       "\n",
       "   Cumulative Perc Good  \n",
       "0              0.000010  \n",
       "1              0.000019  \n",
       "2              0.000029  \n",
       "3              0.000038  \n",
       "4              0.000048  "
      ]
     },
     "execution_count": 233,
     "metadata": {},
     "output_type": "execute_result"
    }
   ],
   "source": [
    "df_actual_predicted.head()"
   ]
  },
  {
   "cell_type": "code",
   "execution_count": 234,
   "metadata": {},
   "outputs": [
    {
     "data": {
      "text/plain": [
       "Text(0.5, 1.0, 'Kolmogorov-Smirnov:  0.7651')"
      ]
     },
     "execution_count": 234,
     "metadata": {},
     "output_type": "execute_result"
    },
    {
     "data": {
      "image/png": "[encoded data removed]",
      "text/plain": [
       "<Figure size 640x480 with 1 Axes>"
      ]
     },
     "metadata": {},
     "output_type": "display_data"
    }
   ],
   "source": [
    "KS = max(df_actual_predicted['Cumulative Perc Good'] - df_actual_predicted['Cumulative Perc Bad'])\n",
    "\n",
    "plt.plot(df_actual_predicted['y_pred_proba'], df_actual_predicted['Cumulative Perc Bad'], color='r')\n",
    "plt.plot(df_actual_predicted['y_pred_proba'], df_actual_predicted['Cumulative Perc Good'], color='b')\n",
    "plt.xlabel('Estimated Probability for Being Bad')\n",
    "plt.ylabel('Cumulative %')\n",
    "plt.title('Kolmogorov-Smirnov:  %0.4f' %KS)"
   ]
  },
  {
   "attachments": {},
   "cell_type": "markdown",
   "metadata": {},
   "source": [
    "# Save Model"
   ]
  },
  {
   "cell_type": "code",
   "execution_count": 235,
   "metadata": {},
   "outputs": [],
   "source": [
    "import pickle\n",
    "\n",
    "model_columns = list(Xnew.columns)\n",
    "model_columns\n",
    "\n",
    "# saving the model  \n",
    "with open('model.pkl','wb') as file:\n",
    "    pickle.dump(rf_new, file)\n",
    "\n",
    "# saving the model columns\n",
    "with open('model_columns.pkl','wb') as file:\n",
    "    pickle.dump(model_columns, file)\n",
    "\n",
    "# saving the model scaler\n",
    "with open('model_scaler.pkl','wb') as file:\n",
    "    pickle.dump(scaler_new, file)    "
   ]
  },
  {
   "cell_type": "code",
   "execution_count": 236,
   "metadata": {},
   "outputs": [
    {
     "data": {
      "text/plain": [
       "['mths_check',\n",
       " 'out_prncp_inv',\n",
       " 'inq_last_6mths',\n",
       " 'mths_remain',\n",
       " 'int_rate',\n",
       " 'paid_potention',\n",
       " 'emp_length',\n",
       " 'total_rec_late_fee',\n",
       " 'mths_since_last_delinq']"
      ]
     },
     "execution_count": 236,
     "metadata": {},
     "output_type": "execute_result"
    }
   ],
   "source": [
    "trained_load_model = pickle.load(open(\"model_columns.pkl\", \"rb\"))\n",
    "trained_load_model"
   ]
  }
 ],
 "metadata": {
  "kernelspec": {
   "display_name": "python3.8-datascience",
   "language": "python",
   "name": "python3"
  },
  "language_info": {
   "codemirror_mode": {
    "name": "ipython",
    "version": 3
   },
   "file_extension": ".py",
   "mimetype": "text/x-python",
   "name": "python",
   "nbconvert_exporter": "python",
   "pygments_lexer": "ipython3",
   "version": "3.8.16"
  },
  "orig_nbformat": 4
 },
 "nbformat": 4,
 "nbformat_minor": 2
}
